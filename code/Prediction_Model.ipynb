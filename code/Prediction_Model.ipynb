{
  "nbformat": 4,
  "nbformat_minor": 0,
  "metadata": {
    "colab": {
      "provenance": []
    },
    "kernelspec": {
      "name": "python3",
      "display_name": "Python 3"
    },
    "language_info": {
      "name": "python"
    }
  },
  "cells": [
    {
      "cell_type": "code",
      "execution_count": null,
      "metadata": {
        "id": "H7tCsHUQJlMR"
      },
      "outputs": [],
      "source": [
        "DIR = \"/content/drive/MyDrive/College (Master)/Semester 3/COMP90090 - Natural Language Processing for Health/Assignment/Assignment 3/\""
      ]
    },
    {
      "cell_type": "code",
      "source": [
        "import nltk\n",
        "import numpy as np\n",
        "import pandas as pd\n",
        "import seaborn as sns\n",
        "import scipy.stats as stats\n",
        "import statsmodels.api as sm\n",
        "import matplotlib.pyplot as plt\n",
        "import matplotlib.dates as mdates\n",
        "\n",
        "from sklearn.svm import LinearSVC\n",
        "from sklearn.naive_bayes import MultinomialNB\n",
        "from sklearn.model_selection import GridSearchCV\n",
        "from sklearn.linear_model import LogisticRegression\n",
        "from sklearn.ensemble import RandomForestClassifier\n",
        "from sklearn.model_selection import train_test_split\n",
        "from sklearn.metrics import classification_report, roc_auc_score, confusion_matrix\n",
        "\n",
        "import warnings\n",
        "warnings.filterwarnings(\"ignore\")"
      ],
      "metadata": {
        "id": "hOHp-wOk025q"
      },
      "execution_count": null,
      "outputs": []
    },
    {
      "cell_type": "markdown",
      "source": [
        "# Read Data"
      ],
      "metadata": {
        "id": "R2fmsiNg3jkL"
      }
    },
    {
      "cell_type": "code",
      "source": [
        "FEATURES = [\"MI\", \"MA\"]\n",
        "DISORDERS = ['ppd', 'mdd', 'ocd', 'ptsd', 'adhd',\n",
        "             'bipolar', 'anxiety', 'depression']\n",
        "LABEL = DISORDERS + ['neg']"
      ],
      "metadata": {
        "id": "kaW2wqCy34oL"
      },
      "execution_count": null,
      "outputs": []
    },
    {
      "cell_type": "code",
      "source": [
        "full = []\n",
        "mlabel, label = [], []\n",
        "\n",
        "for l in LABEL:\n",
        "    ea_disorder = []\n",
        "    for f in FEATURES:\n",
        "        df = pd.read_csv(f\"{DIR}Dataset/{f}/{l}_extracted.csv\", index_col=0)\n",
        "        ea_disorder.append(df)\n",
        "    feat = pd.concat(ea_disorder, axis=1)\n",
        "    feat['mlabel'] = l\n",
        "    feat['label'] = 0 if l == 'neg' else 1\n",
        "    full.append(feat)"
      ],
      "metadata": {
        "id": "1rq9sTEN33S3"
      },
      "execution_count": null,
      "outputs": []
    },
    {
      "cell_type": "markdown",
      "source": [
        "# Preprocess"
      ],
      "metadata": {
        "id": "Q3Lk5kBI3kb1"
      }
    },
    {
      "cell_type": "code",
      "source": [
        "data = pd.concat(full, axis=0, ignore_index=True)\n",
        "data.fillna(0, inplace=True)\n",
        "data[data.isna().any(axis=1)]"
      ],
      "metadata": {
        "colab": {
          "base_uri": "https://localhost:8080/",
          "height": 113
        },
        "id": "r4svu8596d4u",
        "outputId": "9cab8fd8-5570-40ea-a485-9460f207abd4"
      },
      "execution_count": null,
      "outputs": [
        {
          "output_type": "execute_result",
          "data": {
            "text/plain": [
              "Empty DataFrame\n",
              "Columns: [max_msd, mean_msd, max_md, mean_md, positive_ratio, negative_ratio, positive_combo, negative_combo, likes_count, quote_count, reply_count, retweet_count, mentioned_users, medias, mlabel, label]\n",
              "Index: []"
            ],
            "text/html": [
              "\n",
              "  <div id=\"df-b5946fc5-83e7-4984-a5cb-8ff681a4f47f\">\n",
              "    <div class=\"colab-df-container\">\n",
              "      <div>\n",
              "<style scoped>\n",
              "    .dataframe tbody tr th:only-of-type {\n",
              "        vertical-align: middle;\n",
              "    }\n",
              "\n",
              "    .dataframe tbody tr th {\n",
              "        vertical-align: top;\n",
              "    }\n",
              "\n",
              "    .dataframe thead th {\n",
              "        text-align: right;\n",
              "    }\n",
              "</style>\n",
              "<table border=\"1\" class=\"dataframe\">\n",
              "  <thead>\n",
              "    <tr style=\"text-align: right;\">\n",
              "      <th></th>\n",
              "      <th>max_msd</th>\n",
              "      <th>mean_msd</th>\n",
              "      <th>max_md</th>\n",
              "      <th>mean_md</th>\n",
              "      <th>positive_ratio</th>\n",
              "      <th>negative_ratio</th>\n",
              "      <th>positive_combo</th>\n",
              "      <th>negative_combo</th>\n",
              "      <th>likes_count</th>\n",
              "      <th>quote_count</th>\n",
              "      <th>reply_count</th>\n",
              "      <th>retweet_count</th>\n",
              "      <th>mentioned_users</th>\n",
              "      <th>medias</th>\n",
              "      <th>mlabel</th>\n",
              "      <th>label</th>\n",
              "    </tr>\n",
              "  </thead>\n",
              "  <tbody>\n",
              "  </tbody>\n",
              "</table>\n",
              "</div>\n",
              "      <button class=\"colab-df-convert\" onclick=\"convertToInteractive('df-b5946fc5-83e7-4984-a5cb-8ff681a4f47f')\"\n",
              "              title=\"Convert this dataframe to an interactive table.\"\n",
              "              style=\"display:none;\">\n",
              "        \n",
              "  <svg xmlns=\"http://www.w3.org/2000/svg\" height=\"24px\"viewBox=\"0 0 24 24\"\n",
              "       width=\"24px\">\n",
              "    <path d=\"M0 0h24v24H0V0z\" fill=\"none\"/>\n",
              "    <path d=\"M18.56 5.44l.94 2.06.94-2.06 2.06-.94-2.06-.94-.94-2.06-.94 2.06-2.06.94zm-11 1L8.5 8.5l.94-2.06 2.06-.94-2.06-.94L8.5 2.5l-.94 2.06-2.06.94zm10 10l.94 2.06.94-2.06 2.06-.94-2.06-.94-.94-2.06-.94 2.06-2.06.94z\"/><path d=\"M17.41 7.96l-1.37-1.37c-.4-.4-.92-.59-1.43-.59-.52 0-1.04.2-1.43.59L10.3 9.45l-7.72 7.72c-.78.78-.78 2.05 0 2.83L4 21.41c.39.39.9.59 1.41.59.51 0 1.02-.2 1.41-.59l7.78-7.78 2.81-2.81c.8-.78.8-2.07 0-2.86zM5.41 20L4 18.59l7.72-7.72 1.47 1.35L5.41 20z\"/>\n",
              "  </svg>\n",
              "      </button>\n",
              "      \n",
              "  <style>\n",
              "    .colab-df-container {\n",
              "      display:flex;\n",
              "      flex-wrap:wrap;\n",
              "      gap: 12px;\n",
              "    }\n",
              "\n",
              "    .colab-df-convert {\n",
              "      background-color: #E8F0FE;\n",
              "      border: none;\n",
              "      border-radius: 50%;\n",
              "      cursor: pointer;\n",
              "      display: none;\n",
              "      fill: #1967D2;\n",
              "      height: 32px;\n",
              "      padding: 0 0 0 0;\n",
              "      width: 32px;\n",
              "    }\n",
              "\n",
              "    .colab-df-convert:hover {\n",
              "      background-color: #E2EBFA;\n",
              "      box-shadow: 0px 1px 2px rgba(60, 64, 67, 0.3), 0px 1px 3px 1px rgba(60, 64, 67, 0.15);\n",
              "      fill: #174EA6;\n",
              "    }\n",
              "\n",
              "    [theme=dark] .colab-df-convert {\n",
              "      background-color: #3B4455;\n",
              "      fill: #D2E3FC;\n",
              "    }\n",
              "\n",
              "    [theme=dark] .colab-df-convert:hover {\n",
              "      background-color: #434B5C;\n",
              "      box-shadow: 0px 1px 3px 1px rgba(0, 0, 0, 0.15);\n",
              "      filter: drop-shadow(0px 1px 2px rgba(0, 0, 0, 0.3));\n",
              "      fill: #FFFFFF;\n",
              "    }\n",
              "  </style>\n",
              "\n",
              "      <script>\n",
              "        const buttonEl =\n",
              "          document.querySelector('#df-b5946fc5-83e7-4984-a5cb-8ff681a4f47f button.colab-df-convert');\n",
              "        buttonEl.style.display =\n",
              "          google.colab.kernel.accessAllowed ? 'block' : 'none';\n",
              "\n",
              "        async function convertToInteractive(key) {\n",
              "          const element = document.querySelector('#df-b5946fc5-83e7-4984-a5cb-8ff681a4f47f');\n",
              "          const dataTable =\n",
              "            await google.colab.kernel.invokeFunction('convertToInteractive',\n",
              "                                                     [key], {});\n",
              "          if (!dataTable) return;\n",
              "\n",
              "          const docLinkHtml = 'Like what you see? Visit the ' +\n",
              "            '<a target=\"_blank\" href=https://colab.research.google.com/notebooks/data_table.ipynb>data table notebook</a>'\n",
              "            + ' to learn more about interactive tables.';\n",
              "          element.innerHTML = '';\n",
              "          dataTable['output_type'] = 'display_data';\n",
              "          await google.colab.output.renderOutput(dataTable, element);\n",
              "          const docLink = document.createElement('div');\n",
              "          docLink.innerHTML = docLinkHtml;\n",
              "          element.appendChild(docLink);\n",
              "        }\n",
              "      </script>\n",
              "    </div>\n",
              "  </div>\n",
              "  "
            ]
          },
          "metadata": {},
          "execution_count": 21
        }
      ]
    },
    {
      "cell_type": "code",
      "source": [
        "train, test = train_test_split(data, stratify=data['mlabel'], test_size=0.2, random_state=42)\n",
        "\n",
        "X_train = train.drop(['mlabel', 'label'], axis=1)\n",
        "y_train = train['label']\n",
        "my_train = train['mlabel']\n",
        "\n",
        "X_test = test.drop(['mlabel', 'label'], axis=1)\n",
        "y_test = test['label']\n",
        "my_test = test['mlabel']"
      ],
      "metadata": {
        "id": "39_Wvc0262wk"
      },
      "execution_count": null,
      "outputs": []
    },
    {
      "cell_type": "markdown",
      "source": [
        "# Train"
      ],
      "metadata": {
        "id": "92dTUSnV3nbm"
      }
    },
    {
      "cell_type": "code",
      "source": [
        "def tune(model, param_grid, X_train, y_train):\n",
        "    grid_search = GridSearchCV(model, param_grid, cv=5, scoring='accuracy', n_jobs=-1)\n",
        "    grid_search.fit(X_train, y_train)\n",
        "    print('* Best hyperparameters:', grid_search.best_params_)\n",
        "    print('* Best accuracy score:', grid_search.best_score_)\n",
        "\n",
        "    return grid_search.best_estimator_"
      ],
      "metadata": {
        "id": "CWGjRBUt-MvU"
      },
      "execution_count": null,
      "outputs": []
    },
    {
      "cell_type": "markdown",
      "source": [
        "## Binary Classification"
      ],
      "metadata": {
        "id": "8DRmbSdS3xuN"
      }
    },
    {
      "cell_type": "code",
      "source": [
        "nb = MultinomialNB()\n",
        "svm = LinearSVC()\n",
        "rf = RandomForestClassifier()\n",
        "lg = LogisticRegression()\n",
        "models = [lg, nb, svm, rf]\n",
        "\n",
        "param_grids = [\n",
        "    {'C': [0.001, 0.01, 0.1, 1, 10]},\n",
        "    {'alpha': [0.001, 0.01, 0.1, 1, 10]},\n",
        "    {'C': [0.001, 0.01, 0.1, 1, 10]},\n",
        "    {'n_estimators': [50, 100, 200], 'max_depth': [None, 10, 20]}\n",
        "]\n",
        "\n",
        "bgrids = []\n",
        "# Perform hyperparameter tuning for each model\n",
        "for i, model in enumerate(models):\n",
        "    param_grid = param_grids[i]\n",
        "    print(model.__class__.__name__)\n",
        "\n",
        "    # For common training data\n",
        "    bgrids.append(tune(model, param_grid, X_train, y_train))"
      ],
      "metadata": {
        "colab": {
          "base_uri": "https://localhost:8080/"
        },
        "id": "rSG9kI8907hL",
        "outputId": "f52d6672-7523-4ec0-bc5b-207575288510"
      },
      "execution_count": null,
      "outputs": [
        {
          "output_type": "stream",
          "name": "stdout",
          "text": [
            "LogisticRegression\n"
          ]
        },
        {
          "output_type": "stream",
          "name": "stderr",
          "text": [
            "/usr/local/lib/python3.10/dist-packages/sklearn/linear_model/_logistic.py:458: ConvergenceWarning: lbfgs failed to converge (status=1):\n",
            "STOP: TOTAL NO. of ITERATIONS REACHED LIMIT.\n",
            "\n",
            "Increase the number of iterations (max_iter) or scale the data as shown in:\n",
            "    https://scikit-learn.org/stable/modules/preprocessing.html\n",
            "Please also refer to the documentation for alternative solver options:\n",
            "    https://scikit-learn.org/stable/modules/linear_model.html#logistic-regression\n",
            "  n_iter_i = _check_optimize_result(\n"
          ]
        },
        {
          "output_type": "stream",
          "name": "stdout",
          "text": [
            "* Best hyperparameters: {'C': 10}\n",
            "* Best accuracy score: 0.7677508878266053\n",
            "MultinomialNB\n",
            "* Best hyperparameters: {'alpha': 0.001}\n",
            "* Best accuracy score: 0.7265887647233344\n",
            "LinearSVC\n"
          ]
        },
        {
          "output_type": "stream",
          "name": "stderr",
          "text": [
            "/usr/local/lib/python3.10/dist-packages/sklearn/svm/_base.py:1244: ConvergenceWarning: Liblinear failed to converge, increase the number of iterations.\n",
            "  warnings.warn(\n"
          ]
        },
        {
          "output_type": "stream",
          "name": "stdout",
          "text": [
            "* Best hyperparameters: {'C': 0.01}\n",
            "* Best accuracy score: 0.7661029961649074\n",
            "RandomForestClassifier\n",
            "* Best hyperparameters: {'max_depth': None, 'n_estimators': 200}\n",
            "* Best accuracy score: 0.8047217544327797\n"
          ]
        }
      ]
    },
    {
      "cell_type": "markdown",
      "source": [
        "## Multilabel classification"
      ],
      "metadata": {
        "id": "nmcnlM1S3zSm"
      }
    },
    {
      "cell_type": "code",
      "source": [
        "nb = MultinomialNB()\n",
        "svm = LinearSVC()\n",
        "rf = RandomForestClassifier()\n",
        "lg = LogisticRegression()\n",
        "models = [lg, nb, svm, rf]\n",
        "\n",
        "param_grids = [\n",
        "    {'C': [0.001, 0.01, 0.1, 1, 10], 'multi_class': ['multinomial']},\n",
        "    {'alpha': [0.001, 0.01, 0.1, 1, 10]},\n",
        "    {'C': [0.001, 0.01, 0.1, 1, 10], 'multi_class': ['ovr']},\n",
        "    {'n_estimators': [50, 100, 200], 'max_depth': [None, 10, 20]}\n",
        "]\n",
        "\n",
        "mgrids = []\n",
        "# Perform hyperparameter tuning for each model\n",
        "for i, model in enumerate(models):\n",
        "    param_grid = param_grids[i]\n",
        "    print(model.__class__.__name__)\n",
        "\n",
        "    # For common training data\n",
        "    mgrids.append(tune(model, param_grid, X_train, my_train))"
      ],
      "metadata": {
        "colab": {
          "base_uri": "https://localhost:8080/"
        },
        "id": "hp_GjV6vBKPV",
        "outputId": "f8f3dc4a-0f2e-4a60-91b3-8006c6b25a46"
      },
      "execution_count": null,
      "outputs": [
        {
          "output_type": "stream",
          "name": "stdout",
          "text": [
            "LogisticRegression\n",
            "* Best hyperparameters: {'C': 0.01, 'multi_class': 'multinomial'}\n",
            "* Best accuracy score: 0.35541329879125183\n",
            "MultinomialNB\n",
            "* Best hyperparameters: {'alpha': 10}\n",
            "* Best accuracy score: 0.2481909335635454\n",
            "LinearSVC\n",
            "* Best hyperparameters: {'C': 0.01, 'multi_class': 'ovr'}\n",
            "* Best accuracy score: 0.3594612695691025\n",
            "RandomForestClassifier\n",
            "* Best hyperparameters: {'max_depth': 20, 'n_estimators': 200}\n",
            "* Best accuracy score: 0.40467150463738866\n"
          ]
        }
      ]
    },
    {
      "cell_type": "markdown",
      "source": [
        "# Evaluate"
      ],
      "metadata": {
        "id": "1OzeJP-s3oaN"
      }
    },
    {
      "cell_type": "code",
      "source": [
        "def evaluate(y, y_pred, y_pred_proba=None):\n",
        "    report = classification_report(y, y_pred)\n",
        "    print('Classification Report:')\n",
        "    print(report)\n",
        "\n",
        "    if y_pred_proba is not None:\n",
        "        auroc = roc_auc_score(y, y_pred_proba)\n",
        "        print('AUROC:', round(auroc, 4))\n",
        "    print()\n",
        "\n",
        "    return classification_report(y, y_pred, output_dict=True)"
      ],
      "metadata": {
        "id": "dN7YcWfr_Rg1"
      },
      "execution_count": null,
      "outputs": []
    },
    {
      "cell_type": "code",
      "source": [
        "breport = pd.DataFrame(columns=['P', 'R', 'F1'], index=['Logistic Regression', 'Naive Bayes', 'Support Vector Machine', 'Random Forest'])\n",
        "mreport = pd.DataFrame(columns=['P', 'R', 'F1'], index=['Logistic Regression', 'Naive Bayes', 'Support Vector Machine', 'Random Forest'])"
      ],
      "metadata": {
        "id": "OZSXxx6noTsU"
      },
      "execution_count": 77,
      "outputs": []
    },
    {
      "cell_type": "markdown",
      "source": [
        "## Binary classification"
      ],
      "metadata": {
        "id": "Rk5YScYSFA6y"
      }
    },
    {
      "cell_type": "code",
      "source": [
        "for i, model in enumerate(bgrids):\n",
        "    print(\"============\", model.__class__.__name__, \"============\")\n",
        "    y_pred = model.predict(X_test)\n",
        "    if hasattr(model, \"predict_proba\"):\n",
        "        report = evaluate(y_test, y_pred, model.predict_proba(X_test)[::,1])\n",
        "    else:\n",
        "        report = evaluate(y_test, y_pred)\n",
        "\n",
        "    breport.iloc[i,:] = [round(report['macro avg']['precision'],2), round(report['macro avg']['recall'],2), round(report['macro avg']['f1-score'],2)]"
      ],
      "metadata": {
        "colab": {
          "base_uri": "https://localhost:8080/"
        },
        "id": "u9dfvquaE-Wh",
        "outputId": "efde388c-63bf-485d-b3cb-76cef76f725e"
      },
      "execution_count": 84,
      "outputs": [
        {
          "output_type": "stream",
          "name": "stdout",
          "text": [
            "============ LogisticRegression ============\n",
            "Classification Report:\n",
            "              precision    recall  f1-score   support\n",
            "\n",
            "           0       0.61      0.03      0.06      1640\n",
            "           1       0.77      0.99      0.87      5339\n",
            "\n",
            "    accuracy                           0.77      6979\n",
            "   macro avg       0.69      0.51      0.47      6979\n",
            "weighted avg       0.73      0.77      0.68      6979\n",
            "\n",
            "AUROC: 0.6977\n",
            "\n",
            "============ MultinomialNB ============\n",
            "Classification Report:\n",
            "              precision    recall  f1-score   support\n",
            "\n",
            "           0       0.33      0.17      0.22      1640\n",
            "           1       0.78      0.89      0.83      5339\n",
            "\n",
            "    accuracy                           0.72      6979\n",
            "   macro avg       0.55      0.53      0.53      6979\n",
            "weighted avg       0.67      0.72      0.69      6979\n",
            "\n",
            "AUROC: 0.5698\n",
            "\n",
            "============ LinearSVC ============\n",
            "Classification Report:\n",
            "              precision    recall  f1-score   support\n",
            "\n",
            "           0       0.53      0.02      0.03      1640\n",
            "           1       0.77      1.00      0.87      5339\n",
            "\n",
            "    accuracy                           0.77      6979\n",
            "   macro avg       0.65      0.51      0.45      6979\n",
            "weighted avg       0.71      0.77      0.67      6979\n",
            "\n",
            "\n",
            "============ RandomForestClassifier ============\n",
            "Classification Report:\n",
            "              precision    recall  f1-score   support\n",
            "\n",
            "           0       0.67      0.32      0.43      1640\n",
            "           1       0.82      0.95      0.88      5339\n",
            "\n",
            "    accuracy                           0.80      6979\n",
            "   macro avg       0.74      0.64      0.66      6979\n",
            "weighted avg       0.78      0.80      0.78      6979\n",
            "\n",
            "AUROC: 0.796\n",
            "\n"
          ]
        }
      ]
    },
    {
      "cell_type": "code",
      "source": [
        "breport"
      ],
      "metadata": {
        "colab": {
          "base_uri": "https://localhost:8080/",
          "height": 175
        },
        "id": "TLOjS2MfuZTA",
        "outputId": "5ef39c4b-3a9b-4b85-ccf0-895fe585d4ba"
      },
      "execution_count": 85,
      "outputs": [
        {
          "output_type": "execute_result",
          "data": {
            "text/plain": [
              "                           P     R    F1\n",
              "Logistic Regression     0.69  0.51  0.47\n",
              "Naive Bayes             0.55  0.53  0.53\n",
              "Support Vector Machine  0.65  0.51  0.45\n",
              "Random Forest           0.74  0.64  0.66"
            ],
            "text/html": [
              "\n",
              "  <div id=\"df-86cb2ed8-2a5f-4280-915f-c1a973e520be\">\n",
              "    <div class=\"colab-df-container\">\n",
              "      <div>\n",
              "<style scoped>\n",
              "    .dataframe tbody tr th:only-of-type {\n",
              "        vertical-align: middle;\n",
              "    }\n",
              "\n",
              "    .dataframe tbody tr th {\n",
              "        vertical-align: top;\n",
              "    }\n",
              "\n",
              "    .dataframe thead th {\n",
              "        text-align: right;\n",
              "    }\n",
              "</style>\n",
              "<table border=\"1\" class=\"dataframe\">\n",
              "  <thead>\n",
              "    <tr style=\"text-align: right;\">\n",
              "      <th></th>\n",
              "      <th>P</th>\n",
              "      <th>R</th>\n",
              "      <th>F1</th>\n",
              "    </tr>\n",
              "  </thead>\n",
              "  <tbody>\n",
              "    <tr>\n",
              "      <th>Logistic Regression</th>\n",
              "      <td>0.69</td>\n",
              "      <td>0.51</td>\n",
              "      <td>0.47</td>\n",
              "    </tr>\n",
              "    <tr>\n",
              "      <th>Naive Bayes</th>\n",
              "      <td>0.55</td>\n",
              "      <td>0.53</td>\n",
              "      <td>0.53</td>\n",
              "    </tr>\n",
              "    <tr>\n",
              "      <th>Support Vector Machine</th>\n",
              "      <td>0.65</td>\n",
              "      <td>0.51</td>\n",
              "      <td>0.45</td>\n",
              "    </tr>\n",
              "    <tr>\n",
              "      <th>Random Forest</th>\n",
              "      <td>0.74</td>\n",
              "      <td>0.64</td>\n",
              "      <td>0.66</td>\n",
              "    </tr>\n",
              "  </tbody>\n",
              "</table>\n",
              "</div>\n",
              "      <button class=\"colab-df-convert\" onclick=\"convertToInteractive('df-86cb2ed8-2a5f-4280-915f-c1a973e520be')\"\n",
              "              title=\"Convert this dataframe to an interactive table.\"\n",
              "              style=\"display:none;\">\n",
              "        \n",
              "  <svg xmlns=\"http://www.w3.org/2000/svg\" height=\"24px\"viewBox=\"0 0 24 24\"\n",
              "       width=\"24px\">\n",
              "    <path d=\"M0 0h24v24H0V0z\" fill=\"none\"/>\n",
              "    <path d=\"M18.56 5.44l.94 2.06.94-2.06 2.06-.94-2.06-.94-.94-2.06-.94 2.06-2.06.94zm-11 1L8.5 8.5l.94-2.06 2.06-.94-2.06-.94L8.5 2.5l-.94 2.06-2.06.94zm10 10l.94 2.06.94-2.06 2.06-.94-2.06-.94-.94-2.06-.94 2.06-2.06.94z\"/><path d=\"M17.41 7.96l-1.37-1.37c-.4-.4-.92-.59-1.43-.59-.52 0-1.04.2-1.43.59L10.3 9.45l-7.72 7.72c-.78.78-.78 2.05 0 2.83L4 21.41c.39.39.9.59 1.41.59.51 0 1.02-.2 1.41-.59l7.78-7.78 2.81-2.81c.8-.78.8-2.07 0-2.86zM5.41 20L4 18.59l7.72-7.72 1.47 1.35L5.41 20z\"/>\n",
              "  </svg>\n",
              "      </button>\n",
              "      \n",
              "  <style>\n",
              "    .colab-df-container {\n",
              "      display:flex;\n",
              "      flex-wrap:wrap;\n",
              "      gap: 12px;\n",
              "    }\n",
              "\n",
              "    .colab-df-convert {\n",
              "      background-color: #E8F0FE;\n",
              "      border: none;\n",
              "      border-radius: 50%;\n",
              "      cursor: pointer;\n",
              "      display: none;\n",
              "      fill: #1967D2;\n",
              "      height: 32px;\n",
              "      padding: 0 0 0 0;\n",
              "      width: 32px;\n",
              "    }\n",
              "\n",
              "    .colab-df-convert:hover {\n",
              "      background-color: #E2EBFA;\n",
              "      box-shadow: 0px 1px 2px rgba(60, 64, 67, 0.3), 0px 1px 3px 1px rgba(60, 64, 67, 0.15);\n",
              "      fill: #174EA6;\n",
              "    }\n",
              "\n",
              "    [theme=dark] .colab-df-convert {\n",
              "      background-color: #3B4455;\n",
              "      fill: #D2E3FC;\n",
              "    }\n",
              "\n",
              "    [theme=dark] .colab-df-convert:hover {\n",
              "      background-color: #434B5C;\n",
              "      box-shadow: 0px 1px 3px 1px rgba(0, 0, 0, 0.15);\n",
              "      filter: drop-shadow(0px 1px 2px rgba(0, 0, 0, 0.3));\n",
              "      fill: #FFFFFF;\n",
              "    }\n",
              "  </style>\n",
              "\n",
              "      <script>\n",
              "        const buttonEl =\n",
              "          document.querySelector('#df-86cb2ed8-2a5f-4280-915f-c1a973e520be button.colab-df-convert');\n",
              "        buttonEl.style.display =\n",
              "          google.colab.kernel.accessAllowed ? 'block' : 'none';\n",
              "\n",
              "        async function convertToInteractive(key) {\n",
              "          const element = document.querySelector('#df-86cb2ed8-2a5f-4280-915f-c1a973e520be');\n",
              "          const dataTable =\n",
              "            await google.colab.kernel.invokeFunction('convertToInteractive',\n",
              "                                                     [key], {});\n",
              "          if (!dataTable) return;\n",
              "\n",
              "          const docLinkHtml = 'Like what you see? Visit the ' +\n",
              "            '<a target=\"_blank\" href=https://colab.research.google.com/notebooks/data_table.ipynb>data table notebook</a>'\n",
              "            + ' to learn more about interactive tables.';\n",
              "          element.innerHTML = '';\n",
              "          dataTable['output_type'] = 'display_data';\n",
              "          await google.colab.output.renderOutput(dataTable, element);\n",
              "          const docLink = document.createElement('div');\n",
              "          docLink.innerHTML = docLinkHtml;\n",
              "          element.appendChild(docLink);\n",
              "        }\n",
              "      </script>\n",
              "    </div>\n",
              "  </div>\n",
              "  "
            ]
          },
          "metadata": {},
          "execution_count": 85
        }
      ]
    },
    {
      "cell_type": "markdown",
      "source": [
        "## Multilabel classifiction"
      ],
      "metadata": {
        "id": "51yezHnBGc0b"
      }
    },
    {
      "cell_type": "code",
      "source": [
        "for model in mgrids:\n",
        "    print(\"============\", model.__class__.__name__, \"============\")\n",
        "    my_pred = model.predict(X_test)\n",
        "    evaluate(my_test, my_pred)"
      ],
      "metadata": {
        "colab": {
          "base_uri": "https://localhost:8080/"
        },
        "id": "ZO4E7YD3CWo8",
        "outputId": "ff7624ad-bfab-4e91-90bd-8bb7d6f52478"
      },
      "execution_count": null,
      "outputs": [
        {
          "output_type": "stream",
          "name": "stdout",
          "text": [
            "============ LogisticRegression ============\n",
            "Classification Report:\n",
            "              precision    recall  f1-score   support\n",
            "\n",
            "        adhd       0.34      0.48      0.40      1619\n",
            "     anxiety       0.30      0.09      0.13       968\n",
            "     bipolar       0.00      0.00      0.00       330\n",
            "  depression       0.40      0.31      0.35      1360\n",
            "         mdd       0.00      0.00      0.00        65\n",
            "         neg       0.34      0.69      0.46      1640\n",
            "         ocd       0.00      0.00      0.00       265\n",
            "         ppd       0.00      0.00      0.00        49\n",
            "        ptsd       0.00      0.00      0.00       683\n",
            "\n",
            "    accuracy                           0.35      6979\n",
            "   macro avg       0.15      0.18      0.15      6979\n",
            "weighted avg       0.28      0.35      0.29      6979\n",
            "\n",
            "Accuracy: 0.3478\n",
            "\n",
            "============ MultinomialNB ============\n",
            "Classification Report:\n",
            "              precision    recall  f1-score   support\n",
            "\n",
            "        adhd       0.27      0.28      0.28      1619\n",
            "     anxiety       0.17      0.31      0.22       968\n",
            "     bipolar       0.12      0.05      0.08       330\n",
            "  depression       0.27      0.38      0.31      1360\n",
            "         mdd       0.00      0.00      0.00        65\n",
            "         neg       0.31      0.25      0.28      1640\n",
            "         ocd       0.06      0.03      0.04       265\n",
            "         ppd       0.00      0.00      0.00        49\n",
            "        ptsd       0.25      0.01      0.01       683\n",
            "\n",
            "    accuracy                           0.25      6979\n",
            "   macro avg       0.16      0.15      0.13      6979\n",
            "weighted avg       0.24      0.25      0.23      6979\n",
            "\n",
            "Accuracy: 0.2452\n",
            "\n",
            "============ LinearSVC ============\n",
            "Classification Report:\n",
            "              precision    recall  f1-score   support\n",
            "\n",
            "        adhd       0.33      0.61      0.43      1619\n",
            "     anxiety       0.33      0.08      0.14       968\n",
            "     bipolar       0.00      0.00      0.00       330\n",
            "  depression       0.50      0.27      0.35      1360\n",
            "         mdd       0.00      0.00      0.00        65\n",
            "         neg       0.35      0.65      0.46      1640\n",
            "         ocd       0.00      0.00      0.00       265\n",
            "         ppd       0.00      0.00      0.00        49\n",
            "        ptsd       0.00      0.00      0.00       683\n",
            "\n",
            "    accuracy                           0.36      6979\n",
            "   macro avg       0.17      0.18      0.15      6979\n",
            "weighted avg       0.30      0.36      0.29      6979\n",
            "\n",
            "Accuracy: 0.3576\n",
            "\n",
            "============ RandomForestClassifier ============\n",
            "Classification Report:\n",
            "              precision    recall  f1-score   support\n",
            "\n",
            "        adhd       0.34      0.69      0.46      1619\n",
            "     anxiety       0.27      0.12      0.16       968\n",
            "     bipolar       0.23      0.01      0.02       330\n",
            "  depression       0.52      0.28      0.37      1360\n",
            "         mdd       0.00      0.00      0.00        65\n",
            "         neg       0.46      0.70      0.55      1640\n",
            "         ocd       0.00      0.00      0.00       265\n",
            "         ppd       0.00      0.00      0.00        49\n",
            "        ptsd       0.26      0.02      0.04       683\n",
            "\n",
            "    accuracy                           0.40      6979\n",
            "   macro avg       0.23      0.20      0.18      6979\n",
            "weighted avg       0.36      0.40      0.34      6979\n",
            "\n",
            "Accuracy: 0.3983\n",
            "\n"
          ]
        }
      ]
    },
    {
      "cell_type": "code",
      "source": [
        "# Show confustion matrix for highest accuracy score\n",
        "classification_matrix = confusion_matrix(my_test, my_pred)\n",
        "ax = sns.heatmap(classification_matrix, annot=True, cmap='Blues', fmt='d')\n",
        "ax.set_xticklabels(LABEL)\n",
        "ax.set_yticklabels(LABEL)"
      ],
      "metadata": {
        "colab": {
          "base_uri": "https://localhost:8080/",
          "height": 586
        },
        "id": "MEa0m_QzRhit",
        "outputId": "03be4c37-32ef-4399-a234-57aa2ed3e30a"
      },
      "execution_count": null,
      "outputs": [
        {
          "output_type": "execute_result",
          "data": {
            "text/plain": [
              "[Text(0, 0.5, 'ppd'),\n",
              " Text(0, 1.5, 'mdd'),\n",
              " Text(0, 2.5, 'ocd'),\n",
              " Text(0, 3.5, 'ptsd'),\n",
              " Text(0, 4.5, 'adhd'),\n",
              " Text(0, 5.5, 'bipolar'),\n",
              " Text(0, 6.5, 'anxiety'),\n",
              " Text(0, 7.5, 'depression'),\n",
              " Text(0, 8.5, 'neg')]"
            ]
          },
          "metadata": {},
          "execution_count": 48
        },
        {
          "output_type": "display_data",
          "data": {
            "text/plain": [
              "<Figure size 640x480 with 2 Axes>"
            ],
            "image/png": "[encoded data removed]"
          },
          "metadata": {}
        }
      ]
    },
    {
      "cell_type": "code",
      "source": [],
      "metadata": {
        "id": "KV4JRB0TpIju"
      },
      "execution_count": null,
      "outputs": []
    }
  ]
}