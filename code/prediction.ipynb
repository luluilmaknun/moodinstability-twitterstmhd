{
  "cells": [
    {
      "cell_type": "code",
      "execution_count": 1,
      "metadata": {
        "id": "hOHp-wOk025q"
      },
      "outputs": [],
      "source": [
        "import pandas as pd\n",
        "import seaborn as sns\n",
        "\n",
        "from sklearn.svm import LinearSVC\n",
        "from sklearn.naive_bayes import MultinomialNB\n",
        "from sklearn.model_selection import GridSearchCV\n",
        "from sklearn.linear_model import LogisticRegression\n",
        "from sklearn.ensemble import RandomForestClassifier\n",
        "from sklearn.preprocessing import MultiLabelBinarizer\n",
        "from sklearn.multioutput import MultiOutputClassifier\n",
        "from sklearn.model_selection import train_test_split\n",
        "from sklearn.metrics import classification_report, roc_auc_score, confusion_matrix, make_scorer, f1_score\n",
        "\n",
        "import warnings\n",
        "warnings.filterwarnings(\"ignore\")"
      ]
    },
    {
      "attachments": {},
      "cell_type": "markdown",
      "metadata": {
        "id": "R2fmsiNg3jkL"
      },
      "source": [
        "# Read Data"
      ]
    },
    {
      "cell_type": "code",
      "execution_count": 2,
      "metadata": {},
      "outputs": [],
      "source": [
        "RANDOM_SEED = 42"
      ]
    },
    {
      "cell_type": "code",
      "execution_count": 3,
      "metadata": {
        "id": "kaW2wqCy34oL"
      },
      "outputs": [],
      "source": [
        "DISORDERS = ['ppd', 'mdd', 'ocd', 'ptsd', 'adhd',\n",
        "             'bipolar', 'anxiety', 'depression']\n",
        "LABEL = DISORDERS + ['neg']\n",
        "# LABEL = DISORDERS"
      ]
    },
    {
      "cell_type": "code",
      "execution_count": 4,
      "metadata": {
        "id": "1rq9sTEN33S3"
      },
      "outputs": [],
      "source": [
        "full = []\n",
        "mlabel, label = [], []\n",
        "\n",
        "for l in LABEL:\n",
        "    ea_disorder = []\n",
        "    df = pd.read_csv(f\"../output/moods_analysis_{l}.csv\", index_col=0)\n",
        "    ea_disorder.append(df)\n",
        "    feat = pd.concat(ea_disorder, axis=1)\n",
        "    feat['mlabel'] = l\n",
        "    feat['label'] = 0 if l == 'neg' else 1\n",
        "    full.append(feat)"
      ]
    },
    {
      "attachments": {},
      "cell_type": "markdown",
      "metadata": {
        "id": "Q3Lk5kBI3kb1"
      },
      "source": [
        "# Preprocess"
      ]
    },
    {
      "cell_type": "code",
      "execution_count": 5,
      "metadata": {
        "colab": {
          "base_uri": "https://localhost:8080/",
          "height": 113
        },
        "id": "r4svu8596d4u",
        "outputId": "9cab8fd8-5570-40ea-a485-9460f207abd4"
      },
      "outputs": [
        {
          "data": {
            "text/html": [
              "<div>\n",
              "<style scoped>\n",
              "    .dataframe tbody tr th:only-of-type {\n",
              "        vertical-align: middle;\n",
              "    }\n",
              "\n",
              "    .dataframe tbody tr th {\n",
              "        vertical-align: top;\n",
              "    }\n",
              "\n",
              "    .dataframe thead th {\n",
              "        text-align: right;\n",
              "    }\n",
              "</style>\n",
              "<table border=\"1\" class=\"dataframe\">\n",
              "  <thead>\n",
              "    <tr style=\"text-align: right;\">\n",
              "      <th></th>\n",
              "      <th>max_msd</th>\n",
              "      <th>mean_msd</th>\n",
              "      <th>positive_ratio</th>\n",
              "      <th>negative_ratio</th>\n",
              "      <th>positive_combo</th>\n",
              "      <th>negative_combo</th>\n",
              "      <th>mlabel</th>\n",
              "      <th>label</th>\n",
              "    </tr>\n",
              "  </thead>\n",
              "  <tbody>\n",
              "  </tbody>\n",
              "</table>\n",
              "</div>"
            ],
            "text/plain": [
              "Empty DataFrame\n",
              "Columns: [max_msd, mean_msd, positive_ratio, negative_ratio, positive_combo, negative_combo, mlabel, label]\n",
              "Index: []"
            ]
          },
          "execution_count": 5,
          "metadata": {},
          "output_type": "execute_result"
        }
      ],
      "source": [
        "data = pd.concat(full, axis=0, ignore_index=True)\n",
        "# data.fillna(0, inplace=True)\n",
        "data[data.isna().any(axis=1)]"
      ]
    },
    {
      "cell_type": "code",
      "execution_count": 6,
      "metadata": {},
      "outputs": [
        {
          "data": {
            "text/html": [
              "<div>\n",
              "<style scoped>\n",
              "    .dataframe tbody tr th:only-of-type {\n",
              "        vertical-align: middle;\n",
              "    }\n",
              "\n",
              "    .dataframe tbody tr th {\n",
              "        vertical-align: top;\n",
              "    }\n",
              "\n",
              "    .dataframe thead th {\n",
              "        text-align: right;\n",
              "    }\n",
              "</style>\n",
              "<table border=\"1\" class=\"dataframe\">\n",
              "  <thead>\n",
              "    <tr style=\"text-align: right;\">\n",
              "      <th></th>\n",
              "      <th>max_msd</th>\n",
              "      <th>mean_msd</th>\n",
              "      <th>positive_ratio</th>\n",
              "      <th>negative_ratio</th>\n",
              "      <th>positive_combo</th>\n",
              "      <th>negative_combo</th>\n",
              "      <th>mlabel</th>\n",
              "      <th>label</th>\n",
              "    </tr>\n",
              "  </thead>\n",
              "  <tbody>\n",
              "    <tr>\n",
              "      <th>0</th>\n",
              "      <td>0.023002</td>\n",
              "      <td>0.004338</td>\n",
              "      <td>0.736390</td>\n",
              "      <td>0.179083</td>\n",
              "      <td>27</td>\n",
              "      <td>0</td>\n",
              "      <td>ppd</td>\n",
              "      <td>1</td>\n",
              "    </tr>\n",
              "    <tr>\n",
              "      <th>1</th>\n",
              "      <td>0.132353</td>\n",
              "      <td>0.009139</td>\n",
              "      <td>0.245889</td>\n",
              "      <td>0.338293</td>\n",
              "      <td>0</td>\n",
              "      <td>1</td>\n",
              "      <td>ppd</td>\n",
              "      <td>1</td>\n",
              "    </tr>\n",
              "    <tr>\n",
              "      <th>2</th>\n",
              "      <td>0.235702</td>\n",
              "      <td>0.016869</td>\n",
              "      <td>0.172909</td>\n",
              "      <td>0.351436</td>\n",
              "      <td>0</td>\n",
              "      <td>4</td>\n",
              "      <td>ppd</td>\n",
              "      <td>1</td>\n",
              "    </tr>\n",
              "    <tr>\n",
              "      <th>3</th>\n",
              "      <td>0.112305</td>\n",
              "      <td>0.018554</td>\n",
              "      <td>0.415385</td>\n",
              "      <td>0.169231</td>\n",
              "      <td>0</td>\n",
              "      <td>0</td>\n",
              "      <td>ppd</td>\n",
              "      <td>1</td>\n",
              "    </tr>\n",
              "    <tr>\n",
              "      <th>4</th>\n",
              "      <td>0.157135</td>\n",
              "      <td>0.017007</td>\n",
              "      <td>0.132576</td>\n",
              "      <td>0.155303</td>\n",
              "      <td>0</td>\n",
              "      <td>0</td>\n",
              "      <td>ppd</td>\n",
              "      <td>1</td>\n",
              "    </tr>\n",
              "    <tr>\n",
              "      <th>...</th>\n",
              "      <td>...</td>\n",
              "      <td>...</td>\n",
              "      <td>...</td>\n",
              "      <td>...</td>\n",
              "      <td>...</td>\n",
              "      <td>...</td>\n",
              "      <td>...</td>\n",
              "      <td>...</td>\n",
              "    </tr>\n",
              "    <tr>\n",
              "      <th>34888</th>\n",
              "      <td>0.011785</td>\n",
              "      <td>0.000724</td>\n",
              "      <td>0.000000</td>\n",
              "      <td>0.737336</td>\n",
              "      <td>0</td>\n",
              "      <td>1</td>\n",
              "      <td>neg</td>\n",
              "      <td>0</td>\n",
              "    </tr>\n",
              "    <tr>\n",
              "      <th>34889</th>\n",
              "      <td>0.235702</td>\n",
              "      <td>0.009263</td>\n",
              "      <td>0.030534</td>\n",
              "      <td>0.076336</td>\n",
              "      <td>0</td>\n",
              "      <td>0</td>\n",
              "      <td>neg</td>\n",
              "      <td>0</td>\n",
              "    </tr>\n",
              "    <tr>\n",
              "      <th>34890</th>\n",
              "      <td>0.064282</td>\n",
              "      <td>0.003989</td>\n",
              "      <td>0.055866</td>\n",
              "      <td>0.134078</td>\n",
              "      <td>0</td>\n",
              "      <td>1</td>\n",
              "      <td>neg</td>\n",
              "      <td>0</td>\n",
              "    </tr>\n",
              "    <tr>\n",
              "      <th>34891</th>\n",
              "      <td>0.353553</td>\n",
              "      <td>0.028759</td>\n",
              "      <td>0.122124</td>\n",
              "      <td>0.237168</td>\n",
              "      <td>0</td>\n",
              "      <td>0</td>\n",
              "      <td>neg</td>\n",
              "      <td>0</td>\n",
              "    </tr>\n",
              "    <tr>\n",
              "      <th>34892</th>\n",
              "      <td>0.126779</td>\n",
              "      <td>0.010511</td>\n",
              "      <td>0.442322</td>\n",
              "      <td>0.519471</td>\n",
              "      <td>12</td>\n",
              "      <td>21</td>\n",
              "      <td>neg</td>\n",
              "      <td>0</td>\n",
              "    </tr>\n",
              "  </tbody>\n",
              "</table>\n",
              "<p>34893 rows × 8 columns</p>\n",
              "</div>"
            ],
            "text/plain": [
              "        max_msd  mean_msd  positive_ratio  negative_ratio  positive_combo  \\\n",
              "0      0.023002  0.004338        0.736390        0.179083              27   \n",
              "1      0.132353  0.009139        0.245889        0.338293               0   \n",
              "2      0.235702  0.016869        0.172909        0.351436               0   \n",
              "3      0.112305  0.018554        0.415385        0.169231               0   \n",
              "4      0.157135  0.017007        0.132576        0.155303               0   \n",
              "...         ...       ...             ...             ...             ...   \n",
              "34888  0.011785  0.000724        0.000000        0.737336               0   \n",
              "34889  0.235702  0.009263        0.030534        0.076336               0   \n",
              "34890  0.064282  0.003989        0.055866        0.134078               0   \n",
              "34891  0.353553  0.028759        0.122124        0.237168               0   \n",
              "34892  0.126779  0.010511        0.442322        0.519471              12   \n",
              "\n",
              "       negative_combo mlabel  label  \n",
              "0                   0    ppd      1  \n",
              "1                   1    ppd      1  \n",
              "2                   4    ppd      1  \n",
              "3                   0    ppd      1  \n",
              "4                   0    ppd      1  \n",
              "...               ...    ...    ...  \n",
              "34888               1    neg      0  \n",
              "34889               0    neg      0  \n",
              "34890               1    neg      0  \n",
              "34891               0    neg      0  \n",
              "34892              21    neg      0  \n",
              "\n",
              "[34893 rows x 8 columns]"
            ]
          },
          "execution_count": 6,
          "metadata": {},
          "output_type": "execute_result"
        }
      ],
      "source": [
        "data"
      ]
    },
    {
      "cell_type": "code",
      "execution_count": 7,
      "metadata": {},
      "outputs": [
        {
          "data": {
            "text/html": [
              "<div>\n",
              "<style scoped>\n",
              "    .dataframe tbody tr th:only-of-type {\n",
              "        vertical-align: middle;\n",
              "    }\n",
              "\n",
              "    .dataframe tbody tr th {\n",
              "        vertical-align: top;\n",
              "    }\n",
              "\n",
              "    .dataframe thead th {\n",
              "        text-align: right;\n",
              "    }\n",
              "</style>\n",
              "<table border=\"1\" class=\"dataframe\">\n",
              "  <thead>\n",
              "    <tr style=\"text-align: right;\">\n",
              "      <th></th>\n",
              "      <th>max_msd</th>\n",
              "      <th>mean_msd</th>\n",
              "      <th>positive_ratio</th>\n",
              "      <th>negative_ratio</th>\n",
              "      <th>positive_combo</th>\n",
              "      <th>negative_combo</th>\n",
              "      <th>mlabel</th>\n",
              "      <th>label</th>\n",
              "    </tr>\n",
              "  </thead>\n",
              "  <tbody>\n",
              "    <tr>\n",
              "      <th>285</th>\n",
              "      <td>0.176777</td>\n",
              "      <td>0.013550</td>\n",
              "      <td>0.235154</td>\n",
              "      <td>0.137767</td>\n",
              "      <td>0</td>\n",
              "      <td>0</td>\n",
              "      <td>mdd</td>\n",
              "      <td>1</td>\n",
              "    </tr>\n",
              "    <tr>\n",
              "      <th>729</th>\n",
              "      <td>0.000000</td>\n",
              "      <td>0.000000</td>\n",
              "      <td>0.000000</td>\n",
              "      <td>0.000000</td>\n",
              "      <td>0</td>\n",
              "      <td>0</td>\n",
              "      <td>ocd</td>\n",
              "      <td>1</td>\n",
              "    </tr>\n",
              "    <tr>\n",
              "      <th>736</th>\n",
              "      <td>0.235702</td>\n",
              "      <td>0.018570</td>\n",
              "      <td>0.221734</td>\n",
              "      <td>0.148869</td>\n",
              "      <td>0</td>\n",
              "      <td>0</td>\n",
              "      <td>ocd</td>\n",
              "      <td>1</td>\n",
              "    </tr>\n",
              "    <tr>\n",
              "      <th>3818</th>\n",
              "      <td>0.176777</td>\n",
              "      <td>0.016960</td>\n",
              "      <td>0.204234</td>\n",
              "      <td>0.381071</td>\n",
              "      <td>0</td>\n",
              "      <td>3</td>\n",
              "      <td>ptsd</td>\n",
              "      <td>1</td>\n",
              "    </tr>\n",
              "    <tr>\n",
              "      <th>5207</th>\n",
              "      <td>0.248412</td>\n",
              "      <td>0.011353</td>\n",
              "      <td>0.237082</td>\n",
              "      <td>0.178318</td>\n",
              "      <td>0</td>\n",
              "      <td>0</td>\n",
              "      <td>ptsd</td>\n",
              "      <td>1</td>\n",
              "    </tr>\n",
              "    <tr>\n",
              "      <th>...</th>\n",
              "      <td>...</td>\n",
              "      <td>...</td>\n",
              "      <td>...</td>\n",
              "      <td>...</td>\n",
              "      <td>...</td>\n",
              "      <td>...</td>\n",
              "      <td>...</td>\n",
              "      <td>...</td>\n",
              "    </tr>\n",
              "    <tr>\n",
              "      <th>34548</th>\n",
              "      <td>0.000000</td>\n",
              "      <td>0.000000</td>\n",
              "      <td>0.000000</td>\n",
              "      <td>0.000000</td>\n",
              "      <td>0</td>\n",
              "      <td>0</td>\n",
              "      <td>neg</td>\n",
              "      <td>0</td>\n",
              "    </tr>\n",
              "    <tr>\n",
              "      <th>34549</th>\n",
              "      <td>0.000000</td>\n",
              "      <td>0.000000</td>\n",
              "      <td>0.000000</td>\n",
              "      <td>0.000000</td>\n",
              "      <td>0</td>\n",
              "      <td>0</td>\n",
              "      <td>neg</td>\n",
              "      <td>0</td>\n",
              "    </tr>\n",
              "    <tr>\n",
              "      <th>34614</th>\n",
              "      <td>0.000000</td>\n",
              "      <td>0.000000</td>\n",
              "      <td>0.000000</td>\n",
              "      <td>0.000000</td>\n",
              "      <td>0</td>\n",
              "      <td>0</td>\n",
              "      <td>neg</td>\n",
              "      <td>0</td>\n",
              "    </tr>\n",
              "    <tr>\n",
              "      <th>34707</th>\n",
              "      <td>0.000000</td>\n",
              "      <td>0.000000</td>\n",
              "      <td>0.000000</td>\n",
              "      <td>0.000000</td>\n",
              "      <td>0</td>\n",
              "      <td>0</td>\n",
              "      <td>neg</td>\n",
              "      <td>0</td>\n",
              "    </tr>\n",
              "    <tr>\n",
              "      <th>34734</th>\n",
              "      <td>0.000000</td>\n",
              "      <td>0.000000</td>\n",
              "      <td>0.000000</td>\n",
              "      <td>0.000000</td>\n",
              "      <td>0</td>\n",
              "      <td>0</td>\n",
              "      <td>neg</td>\n",
              "      <td>0</td>\n",
              "    </tr>\n",
              "  </tbody>\n",
              "</table>\n",
              "<p>618 rows × 8 columns</p>\n",
              "</div>"
            ],
            "text/plain": [
              "        max_msd  mean_msd  positive_ratio  negative_ratio  positive_combo  \\\n",
              "285    0.176777  0.013550        0.235154        0.137767               0   \n",
              "729    0.000000  0.000000        0.000000        0.000000               0   \n",
              "736    0.235702  0.018570        0.221734        0.148869               0   \n",
              "3818   0.176777  0.016960        0.204234        0.381071               0   \n",
              "5207   0.248412  0.011353        0.237082        0.178318               0   \n",
              "...         ...       ...             ...             ...             ...   \n",
              "34548  0.000000  0.000000        0.000000        0.000000               0   \n",
              "34549  0.000000  0.000000        0.000000        0.000000               0   \n",
              "34614  0.000000  0.000000        0.000000        0.000000               0   \n",
              "34707  0.000000  0.000000        0.000000        0.000000               0   \n",
              "34734  0.000000  0.000000        0.000000        0.000000               0   \n",
              "\n",
              "       negative_combo mlabel  label  \n",
              "285                 0    mdd      1  \n",
              "729                 0    ocd      1  \n",
              "736                 0    ocd      1  \n",
              "3818                3   ptsd      1  \n",
              "5207                0   ptsd      1  \n",
              "...               ...    ...    ...  \n",
              "34548               0    neg      0  \n",
              "34549               0    neg      0  \n",
              "34614               0    neg      0  \n",
              "34707               0    neg      0  \n",
              "34734               0    neg      0  \n",
              "\n",
              "[618 rows x 8 columns]"
            ]
          },
          "execution_count": 7,
          "metadata": {},
          "output_type": "execute_result"
        }
      ],
      "source": [
        "data[data.duplicated(subset=[\"max_msd\", \"mean_msd\", \"positive_ratio\", \"negative_ratio\", \"positive_combo\", \"negative_combo\"])]"
      ]
    },
    {
      "cell_type": "code",
      "execution_count": 8,
      "metadata": {
        "id": "39_Wvc0262wk"
      },
      "outputs": [],
      "source": [
        "train, test = train_test_split(data, stratify=data['mlabel'], test_size=0.2, random_state=RANDOM_SEED)\n",
        "\n",
        "X_train = train.drop(['mlabel', 'label'], axis=1)\n",
        "y_train = train['label']\n",
        "my_train = train['mlabel']\n",
        "\n",
        "X_test = test.drop(['mlabel', 'label'], axis=1)\n",
        "y_test = test['label']\n",
        "my_test = test['mlabel']"
      ]
    },
    {
      "attachments": {},
      "cell_type": "markdown",
      "metadata": {
        "id": "92dTUSnV3nbm"
      },
      "source": [
        "# Train"
      ]
    },
    {
      "cell_type": "code",
      "execution_count": 9,
      "metadata": {
        "id": "CWGjRBUt-MvU"
      },
      "outputs": [],
      "source": [
        "def tune(model, param_grid, X_train, y_train):\n",
        "    grid_search = GridSearchCV(model, param_grid, cv=5, scoring='f1', n_jobs=-1)\n",
        "    grid_search.fit(X_train, y_train)\n",
        "    print('* Best hyperparameters:', grid_search.best_params_)\n",
        "    print('* Best accuracy score:', grid_search.best_score_)\n",
        "\n",
        "    return grid_search.best_estimator_"
      ]
    },
    {
      "attachments": {},
      "cell_type": "markdown",
      "metadata": {
        "id": "8DRmbSdS3xuN"
      },
      "source": [
        "## Binary Classification"
      ]
    },
    {
      "cell_type": "code",
      "execution_count": 10,
      "metadata": {
        "colab": {
          "base_uri": "https://localhost:8080/"
        },
        "id": "rSG9kI8907hL",
        "outputId": "f52d6672-7523-4ec0-bc5b-207575288510"
      },
      "outputs": [
        {
          "name": "stdout",
          "output_type": "stream",
          "text": [
            "LogisticRegression\n"
          ]
        },
        {
          "name": "stdout",
          "output_type": "stream",
          "text": [
            "* Best hyperparameters: {'C': 1}\n",
            "* Best accuracy score: 0.8725381969313505\n",
            "MultinomialNB\n",
            "* Best hyperparameters: {'alpha': 10}\n",
            "* Best accuracy score: 0.8625150187304005\n",
            "LinearSVC\n"
          ]
        },
        {
          "name": "stderr",
          "output_type": "stream",
          "text": [
            "/home/lunaire/Documents/College/COMP90090/env/lib/python3.11/site-packages/sklearn/svm/_classes.py:32: FutureWarning: The default value of `dual` will change from `True` to `'auto'` in 1.5. Set the value of `dual` explicitly to suppress the warning.\n",
            "  warnings.warn(\n",
            "/home/lunaire/Documents/College/COMP90090/env/lib/python3.11/site-packages/sklearn/svm/_classes.py:32: FutureWarning: The default value of `dual` will change from `True` to `'auto'` in 1.5. Set the value of `dual` explicitly to suppress the warning.\n",
            "  warnings.warn(\n",
            "/home/lunaire/Documents/College/COMP90090/env/lib/python3.11/site-packages/sklearn/svm/_classes.py:32: FutureWarning: The default value of `dual` will change from `True` to `'auto'` in 1.5. Set the value of `dual` explicitly to suppress the warning.\n",
            "  warnings.warn(\n",
            "/home/lunaire/Documents/College/COMP90090/env/lib/python3.11/site-packages/sklearn/svm/_classes.py:32: FutureWarning: The default value of `dual` will change from `True` to `'auto'` in 1.5. Set the value of `dual` explicitly to suppress the warning.\n",
            "  warnings.warn(\n",
            "/home/lunaire/Documents/College/COMP90090/env/lib/python3.11/site-packages/sklearn/svm/_classes.py:32: FutureWarning: The default value of `dual` will change from `True` to `'auto'` in 1.5. Set the value of `dual` explicitly to suppress the warning.\n",
            "  warnings.warn(\n",
            "/home/lunaire/Documents/College/COMP90090/env/lib/python3.11/site-packages/sklearn/svm/_classes.py:32: FutureWarning: The default value of `dual` will change from `True` to `'auto'` in 1.5. Set the value of `dual` explicitly to suppress the warning.\n",
            "  warnings.warn(\n",
            "/home/lunaire/Documents/College/COMP90090/env/lib/python3.11/site-packages/sklearn/svm/_classes.py:32: FutureWarning: The default value of `dual` will change from `True` to `'auto'` in 1.5. Set the value of `dual` explicitly to suppress the warning.\n",
            "  warnings.warn(\n",
            "/home/lunaire/Documents/College/COMP90090/env/lib/python3.11/site-packages/sklearn/svm/_classes.py:32: FutureWarning: The default value of `dual` will change from `True` to `'auto'` in 1.5. Set the value of `dual` explicitly to suppress the warning.\n",
            "  warnings.warn(\n",
            "/home/lunaire/Documents/College/COMP90090/env/lib/python3.11/site-packages/sklearn/svm/_classes.py:32: FutureWarning: The default value of `dual` will change from `True` to `'auto'` in 1.5. Set the value of `dual` explicitly to suppress the warning.\n",
            "  warnings.warn(\n",
            "/home/lunaire/Documents/College/COMP90090/env/lib/python3.11/site-packages/sklearn/svm/_classes.py:32: FutureWarning: The default value of `dual` will change from `True` to `'auto'` in 1.5. Set the value of `dual` explicitly to suppress the warning.\n",
            "  warnings.warn(\n",
            "/home/lunaire/Documents/College/COMP90090/env/lib/python3.11/site-packages/sklearn/svm/_classes.py:32: FutureWarning: The default value of `dual` will change from `True` to `'auto'` in 1.5. Set the value of `dual` explicitly to suppress the warning.\n",
            "  warnings.warn(\n",
            "/home/lunaire/Documents/College/COMP90090/env/lib/python3.11/site-packages/sklearn/svm/_base.py:1250: ConvergenceWarning: Liblinear failed to converge, increase the number of iterations.\n",
            "  warnings.warn(\n",
            "/home/lunaire/Documents/College/COMP90090/env/lib/python3.11/site-packages/sklearn/svm/_classes.py:32: FutureWarning: The default value of `dual` will change from `True` to `'auto'` in 1.5. Set the value of `dual` explicitly to suppress the warning.\n",
            "  warnings.warn(\n",
            "/home/lunaire/Documents/College/COMP90090/env/lib/python3.11/site-packages/sklearn/svm/_base.py:1250: ConvergenceWarning: Liblinear failed to converge, increase the number of iterations.\n",
            "  warnings.warn(\n",
            "/home/lunaire/Documents/College/COMP90090/env/lib/python3.11/site-packages/sklearn/svm/_classes.py:32: FutureWarning: The default value of `dual` will change from `True` to `'auto'` in 1.5. Set the value of `dual` explicitly to suppress the warning.\n",
            "  warnings.warn(\n",
            "/home/lunaire/Documents/College/COMP90090/env/lib/python3.11/site-packages/sklearn/svm/_base.py:1250: ConvergenceWarning: Liblinear failed to converge, increase the number of iterations.\n",
            "  warnings.warn(\n",
            "/home/lunaire/Documents/College/COMP90090/env/lib/python3.11/site-packages/sklearn/svm/_classes.py:32: FutureWarning: The default value of `dual` will change from `True` to `'auto'` in 1.5. Set the value of `dual` explicitly to suppress the warning.\n",
            "  warnings.warn(\n",
            "/home/lunaire/Documents/College/COMP90090/env/lib/python3.11/site-packages/sklearn/svm/_classes.py:32: FutureWarning: The default value of `dual` will change from `True` to `'auto'` in 1.5. Set the value of `dual` explicitly to suppress the warning.\n",
            "  warnings.warn(\n",
            "/home/lunaire/Documents/College/COMP90090/env/lib/python3.11/site-packages/sklearn/svm/_base.py:1250: ConvergenceWarning: Liblinear failed to converge, increase the number of iterations.\n",
            "  warnings.warn(\n",
            "/home/lunaire/Documents/College/COMP90090/env/lib/python3.11/site-packages/sklearn/svm/_classes.py:32: FutureWarning: The default value of `dual` will change from `True` to `'auto'` in 1.5. Set the value of `dual` explicitly to suppress the warning.\n",
            "  warnings.warn(\n",
            "/home/lunaire/Documents/College/COMP90090/env/lib/python3.11/site-packages/sklearn/svm/_base.py:1250: ConvergenceWarning: Liblinear failed to converge, increase the number of iterations.\n",
            "  warnings.warn(\n",
            "/home/lunaire/Documents/College/COMP90090/env/lib/python3.11/site-packages/sklearn/svm/_classes.py:32: FutureWarning: The default value of `dual` will change from `True` to `'auto'` in 1.5. Set the value of `dual` explicitly to suppress the warning.\n",
            "  warnings.warn(\n",
            "/home/lunaire/Documents/College/COMP90090/env/lib/python3.11/site-packages/sklearn/svm/_base.py:1250: ConvergenceWarning: Liblinear failed to converge, increase the number of iterations.\n",
            "  warnings.warn(\n",
            "/home/lunaire/Documents/College/COMP90090/env/lib/python3.11/site-packages/sklearn/svm/_classes.py:32: FutureWarning: The default value of `dual` will change from `True` to `'auto'` in 1.5. Set the value of `dual` explicitly to suppress the warning.\n",
            "  warnings.warn(\n",
            "/home/lunaire/Documents/College/COMP90090/env/lib/python3.11/site-packages/sklearn/svm/_base.py:1250: ConvergenceWarning: Liblinear failed to converge, increase the number of iterations.\n",
            "  warnings.warn(\n",
            "/home/lunaire/Documents/College/COMP90090/env/lib/python3.11/site-packages/sklearn/svm/_classes.py:32: FutureWarning: The default value of `dual` will change from `True` to `'auto'` in 1.5. Set the value of `dual` explicitly to suppress the warning.\n",
            "  warnings.warn(\n",
            "/home/lunaire/Documents/College/COMP90090/env/lib/python3.11/site-packages/sklearn/svm/_base.py:1250: ConvergenceWarning: Liblinear failed to converge, increase the number of iterations.\n",
            "  warnings.warn(\n",
            "/home/lunaire/Documents/College/COMP90090/env/lib/python3.11/site-packages/sklearn/svm/_classes.py:32: FutureWarning: The default value of `dual` will change from `True` to `'auto'` in 1.5. Set the value of `dual` explicitly to suppress the warning.\n",
            "  warnings.warn(\n",
            "/home/lunaire/Documents/College/COMP90090/env/lib/python3.11/site-packages/sklearn/svm/_base.py:1250: ConvergenceWarning: Liblinear failed to converge, increase the number of iterations.\n",
            "  warnings.warn(\n",
            "/home/lunaire/Documents/College/COMP90090/env/lib/python3.11/site-packages/sklearn/svm/_classes.py:32: FutureWarning: The default value of `dual` will change from `True` to `'auto'` in 1.5. Set the value of `dual` explicitly to suppress the warning.\n",
            "  warnings.warn(\n",
            "/home/lunaire/Documents/College/COMP90090/env/lib/python3.11/site-packages/sklearn/svm/_base.py:1250: ConvergenceWarning: Liblinear failed to converge, increase the number of iterations.\n",
            "  warnings.warn(\n",
            "/home/lunaire/Documents/College/COMP90090/env/lib/python3.11/site-packages/sklearn/svm/_classes.py:32: FutureWarning: The default value of `dual` will change from `True` to `'auto'` in 1.5. Set the value of `dual` explicitly to suppress the warning.\n",
            "  warnings.warn(\n",
            "/home/lunaire/Documents/College/COMP90090/env/lib/python3.11/site-packages/sklearn/svm/_base.py:1250: ConvergenceWarning: Liblinear failed to converge, increase the number of iterations.\n",
            "  warnings.warn(\n",
            "/home/lunaire/Documents/College/COMP90090/env/lib/python3.11/site-packages/sklearn/svm/_classes.py:32: FutureWarning: The default value of `dual` will change from `True` to `'auto'` in 1.5. Set the value of `dual` explicitly to suppress the warning.\n",
            "  warnings.warn(\n",
            "/home/lunaire/Documents/College/COMP90090/env/lib/python3.11/site-packages/sklearn/svm/_base.py:1250: ConvergenceWarning: Liblinear failed to converge, increase the number of iterations.\n",
            "  warnings.warn(\n",
            "/home/lunaire/Documents/College/COMP90090/env/lib/python3.11/site-packages/sklearn/svm/_classes.py:32: FutureWarning: The default value of `dual` will change from `True` to `'auto'` in 1.5. Set the value of `dual` explicitly to suppress the warning.\n",
            "  warnings.warn(\n",
            "/home/lunaire/Documents/College/COMP90090/env/lib/python3.11/site-packages/sklearn/svm/_base.py:1250: ConvergenceWarning: Liblinear failed to converge, increase the number of iterations.\n",
            "  warnings.warn(\n",
            "/home/lunaire/Documents/College/COMP90090/env/lib/python3.11/site-packages/sklearn/svm/_classes.py:32: FutureWarning: The default value of `dual` will change from `True` to `'auto'` in 1.5. Set the value of `dual` explicitly to suppress the warning.\n",
            "  warnings.warn(\n",
            "/home/lunaire/Documents/College/COMP90090/env/lib/python3.11/site-packages/sklearn/svm/_base.py:1250: ConvergenceWarning: Liblinear failed to converge, increase the number of iterations.\n",
            "  warnings.warn(\n",
            "/home/lunaire/Documents/College/COMP90090/env/lib/python3.11/site-packages/sklearn/svm/_base.py:1250: ConvergenceWarning: Liblinear failed to converge, increase the number of iterations.\n",
            "  warnings.warn(\n",
            "/home/lunaire/Documents/College/COMP90090/env/lib/python3.11/site-packages/sklearn/svm/_base.py:1250: ConvergenceWarning: Liblinear failed to converge, increase the number of iterations.\n",
            "  warnings.warn(\n",
            "/home/lunaire/Documents/College/COMP90090/env/lib/python3.11/site-packages/sklearn/svm/_base.py:1250: ConvergenceWarning: Liblinear failed to converge, increase the number of iterations.\n",
            "  warnings.warn(\n",
            "/home/lunaire/Documents/College/COMP90090/env/lib/python3.11/site-packages/sklearn/svm/_base.py:1250: ConvergenceWarning: Liblinear failed to converge, increase the number of iterations.\n",
            "  warnings.warn(\n",
            "/home/lunaire/Documents/College/COMP90090/env/lib/python3.11/site-packages/sklearn/svm/_base.py:1250: ConvergenceWarning: Liblinear failed to converge, increase the number of iterations.\n",
            "  warnings.warn(\n",
            "/home/lunaire/Documents/College/COMP90090/env/lib/python3.11/site-packages/sklearn/svm/_base.py:1250: ConvergenceWarning: Liblinear failed to converge, increase the number of iterations.\n",
            "  warnings.warn(\n",
            "/home/lunaire/Documents/College/COMP90090/env/lib/python3.11/site-packages/sklearn/svm/_base.py:1250: ConvergenceWarning: Liblinear failed to converge, increase the number of iterations.\n",
            "  warnings.warn(\n"
          ]
        },
        {
          "name": "stdout",
          "output_type": "stream",
          "text": [
            "* Best hyperparameters: {'C': 1}\n",
            "* Best accuracy score: 0.8732323059504952\n",
            "RandomForestClassifier\n",
            "* Best hyperparameters: {'max_depth': 10, 'n_estimators': 200}\n",
            "* Best accuracy score: 0.875598699137044\n"
          ]
        }
      ],
      "source": [
        "nb = MultinomialNB()\n",
        "svm = LinearSVC()\n",
        "rf = RandomForestClassifier()\n",
        "lg = LogisticRegression()\n",
        "models = [lg, nb, svm, rf]\n",
        "\n",
        "param_grids = [\n",
        "    {'C': [0.001, 0.01, 0.1, 1, 10]},\n",
        "    {'alpha': [0.001, 0.01, 0.1, 1, 10]},\n",
        "    {'C': [0.001, 0.01, 0.1, 1, 10]},\n",
        "    {'n_estimators': [50, 100, 200], 'max_depth': [None, 10, 20]}\n",
        "]\n",
        "\n",
        "bgrids = []\n",
        "# Perform hyperparameter tuning for each model\n",
        "for i, model in enumerate(models):\n",
        "    param_grid = param_grids[i]\n",
        "    print(model.__class__.__name__)\n",
        "\n",
        "    # For common training data\n",
        "    bgrids.append(tune(model, param_grid, X_train, y_train))"
      ]
    },
    {
      "cell_type": "code",
      "execution_count": 11,
      "metadata": {},
      "outputs": [
        {
          "name": "stdout",
          "output_type": "stream",
          "text": [
            "Feature importances:\n",
            "Feature 1: 0.2936 - Index: 3\n",
            "negative_ratio\n",
            "Feature 2: 0.2889 - Index: 2\n",
            "positive_ratio\n",
            "Feature 3: 0.2378 - Index: 1\n",
            "mean_msd\n",
            "Feature 4: 0.1099 - Index: 0\n",
            "max_msd\n",
            "Feature 5: 0.0414 - Index: 5\n",
            "negative_combo\n",
            "Feature 6: 0.0284 - Index: 4\n",
            "positive_combo\n"
          ]
        },
        {
          "data": {
            "image/png": "[encoded data removed]",
            "text/plain": [
              "<Figure size 800x600 with 1 Axes>"
            ]
          },
          "metadata": {},
          "output_type": "display_data"
        }
      ],
      "source": [
        "import matplotlib.pyplot as plt\n",
        "\n",
        "importances = bgrids[3].feature_importances_\n",
        "\n",
        "# Sort feature importances in descending order\n",
        "indices = sorted(range(len(importances)), key=lambda i: importances[i], reverse=True)\n",
        "features_impt = X_train.columns[indices]\n",
        "\n",
        "# Print feature importances\n",
        "print(\"Feature importances:\")\n",
        "for i in range(len(importances)):\n",
        "    print(f\"Feature {i+1}: {importances[indices[i]]:.4f} - Index: {indices[i]}\")\n",
        "    print(features_impt[i], )\n",
        "\n",
        "# Visualize feature importances\n",
        "plt.figure(figsize=(8, 6))\n",
        "plt.title(\"Feature Importances in Binary Classification\")\n",
        "plt.bar([\"Negative Ratio\", \"Positive Ratio\", \"Average MSD\", \"Max MSD\", \"Negative Streak\", \"Positive Streak\"], importances[indices], align=\"center\", color='#C8A160')\n",
        "plt.xticks(rotation=50)\n",
        "plt.ylabel(\"Importance\")\n",
        "plt.show()"
      ]
    },
    {
      "attachments": {},
      "cell_type": "markdown",
      "metadata": {
        "id": "nmcnlM1S3zSm"
      },
      "source": [
        "## Multilabel classification"
      ]
    },
    {
      "cell_type": "code",
      "execution_count": 12,
      "metadata": {},
      "outputs": [],
      "source": [
        "def mtune(model, param_grid, X_train, y_train):\n",
        "    grid_search = GridSearchCV(model, param_grid, cv=5, scoring= make_scorer(f1_score, average='weighted'), n_jobs=-1)\n",
        "    grid_search.fit(X_train, y_train)\n",
        "    print('* Best hyperparameters:', grid_search.best_params_)\n",
        "    print('* Best accuracy score:', grid_search.best_score_)\n",
        "\n",
        "    return grid_search.best_estimator_"
      ]
    },
    {
      "cell_type": "code",
      "execution_count": 15,
      "metadata": {
        "colab": {
          "base_uri": "https://localhost:8080/"
        },
        "id": "hp_GjV6vBKPV",
        "outputId": "f8f3dc4a-0f2e-4a60-91b3-8006c6b25a46"
      },
      "outputs": [
        {
          "name": "stdout",
          "output_type": "stream",
          "text": [
            "LogisticRegression\n"
          ]
        },
        {
          "name": "stderr",
          "output_type": "stream",
          "text": [
            "/home/lunaire/Documents/College/COMP90090/env/lib/python3.11/site-packages/sklearn/linear_model/_logistic.py:460: ConvergenceWarning: lbfgs failed to converge (status=1):\n",
            "STOP: TOTAL NO. of ITERATIONS REACHED LIMIT.\n",
            "\n",
            "Increase the number of iterations (max_iter) or scale the data as shown in:\n",
            "    https://scikit-learn.org/stable/modules/preprocessing.html\n",
            "Please also refer to the documentation for alternative solver options:\n",
            "    https://scikit-learn.org/stable/modules/linear_model.html#logistic-regression\n",
            "  n_iter_i = _check_optimize_result(\n",
            "/home/lunaire/Documents/College/COMP90090/env/lib/python3.11/site-packages/sklearn/linear_model/_logistic.py:460: ConvergenceWarning: lbfgs failed to converge (status=1):\n",
            "STOP: TOTAL NO. of ITERATIONS REACHED LIMIT.\n",
            "\n",
            "Increase the number of iterations (max_iter) or scale the data as shown in:\n",
            "    https://scikit-learn.org/stable/modules/preprocessing.html\n",
            "Please also refer to the documentation for alternative solver options:\n",
            "    https://scikit-learn.org/stable/modules/linear_model.html#logistic-regression\n",
            "  n_iter_i = _check_optimize_result(\n",
            "/home/lunaire/Documents/College/COMP90090/env/lib/python3.11/site-packages/sklearn/linear_model/_logistic.py:460: ConvergenceWarning: lbfgs failed to converge (status=1):\n",
            "STOP: TOTAL NO. of ITERATIONS REACHED LIMIT.\n",
            "\n",
            "Increase the number of iterations (max_iter) or scale the data as shown in:\n",
            "    https://scikit-learn.org/stable/modules/preprocessing.html\n",
            "Please also refer to the documentation for alternative solver options:\n",
            "    https://scikit-learn.org/stable/modules/linear_model.html#logistic-regression\n",
            "  n_iter_i = _check_optimize_result(\n",
            "/home/lunaire/Documents/College/COMP90090/env/lib/python3.11/site-packages/sklearn/linear_model/_logistic.py:460: ConvergenceWarning: lbfgs failed to converge (status=1):\n",
            "STOP: TOTAL NO. of ITERATIONS REACHED LIMIT.\n",
            "\n",
            "Increase the number of iterations (max_iter) or scale the data as shown in:\n",
            "    https://scikit-learn.org/stable/modules/preprocessing.html\n",
            "Please also refer to the documentation for alternative solver options:\n",
            "    https://scikit-learn.org/stable/modules/linear_model.html#logistic-regression\n",
            "  n_iter_i = _check_optimize_result(\n",
            "/home/lunaire/Documents/College/COMP90090/env/lib/python3.11/site-packages/sklearn/linear_model/_logistic.py:460: ConvergenceWarning: lbfgs failed to converge (status=1):\n",
            "STOP: TOTAL NO. of ITERATIONS REACHED LIMIT.\n",
            "\n",
            "Increase the number of iterations (max_iter) or scale the data as shown in:\n",
            "    https://scikit-learn.org/stable/modules/preprocessing.html\n",
            "Please also refer to the documentation for alternative solver options:\n",
            "    https://scikit-learn.org/stable/modules/linear_model.html#logistic-regression\n",
            "  n_iter_i = _check_optimize_result(\n",
            "/home/lunaire/Documents/College/COMP90090/env/lib/python3.11/site-packages/sklearn/linear_model/_logistic.py:460: ConvergenceWarning: lbfgs failed to converge (status=1):\n",
            "STOP: TOTAL NO. of ITERATIONS REACHED LIMIT.\n",
            "\n",
            "Increase the number of iterations (max_iter) or scale the data as shown in:\n",
            "    https://scikit-learn.org/stable/modules/preprocessing.html\n",
            "Please also refer to the documentation for alternative solver options:\n",
            "    https://scikit-learn.org/stable/modules/linear_model.html#logistic-regression\n",
            "  n_iter_i = _check_optimize_result(\n",
            "/home/lunaire/Documents/College/COMP90090/env/lib/python3.11/site-packages/sklearn/linear_model/_logistic.py:460: ConvergenceWarning: lbfgs failed to converge (status=1):\n",
            "STOP: TOTAL NO. of ITERATIONS REACHED LIMIT.\n",
            "\n",
            "Increase the number of iterations (max_iter) or scale the data as shown in:\n",
            "    https://scikit-learn.org/stable/modules/preprocessing.html\n",
            "Please also refer to the documentation for alternative solver options:\n",
            "    https://scikit-learn.org/stable/modules/linear_model.html#logistic-regression\n",
            "  n_iter_i = _check_optimize_result(\n",
            "/home/lunaire/Documents/College/COMP90090/env/lib/python3.11/site-packages/sklearn/linear_model/_logistic.py:460: ConvergenceWarning: lbfgs failed to converge (status=1):\n",
            "STOP: TOTAL NO. of ITERATIONS REACHED LIMIT.\n",
            "\n",
            "Increase the number of iterations (max_iter) or scale the data as shown in:\n",
            "    https://scikit-learn.org/stable/modules/preprocessing.html\n",
            "Please also refer to the documentation for alternative solver options:\n",
            "    https://scikit-learn.org/stable/modules/linear_model.html#logistic-regression\n",
            "  n_iter_i = _check_optimize_result(\n",
            "/home/lunaire/Documents/College/COMP90090/env/lib/python3.11/site-packages/sklearn/linear_model/_logistic.py:460: ConvergenceWarning: lbfgs failed to converge (status=1):\n",
            "STOP: TOTAL NO. of ITERATIONS REACHED LIMIT.\n",
            "\n",
            "Increase the number of iterations (max_iter) or scale the data as shown in:\n",
            "    https://scikit-learn.org/stable/modules/preprocessing.html\n",
            "Please also refer to the documentation for alternative solver options:\n",
            "    https://scikit-learn.org/stable/modules/linear_model.html#logistic-regression\n",
            "  n_iter_i = _check_optimize_result(\n",
            "/home/lunaire/Documents/College/COMP90090/env/lib/python3.11/site-packages/sklearn/linear_model/_logistic.py:460: ConvergenceWarning: lbfgs failed to converge (status=1):\n",
            "STOP: TOTAL NO. of ITERATIONS REACHED LIMIT.\n",
            "\n",
            "Increase the number of iterations (max_iter) or scale the data as shown in:\n",
            "    https://scikit-learn.org/stable/modules/preprocessing.html\n",
            "Please also refer to the documentation for alternative solver options:\n",
            "    https://scikit-learn.org/stable/modules/linear_model.html#logistic-regression\n",
            "  n_iter_i = _check_optimize_result(\n",
            "/home/lunaire/Documents/College/COMP90090/env/lib/python3.11/site-packages/sklearn/linear_model/_logistic.py:460: ConvergenceWarning: lbfgs failed to converge (status=1):\n",
            "STOP: TOTAL NO. of ITERATIONS REACHED LIMIT.\n",
            "\n",
            "Increase the number of iterations (max_iter) or scale the data as shown in:\n",
            "    https://scikit-learn.org/stable/modules/preprocessing.html\n",
            "Please also refer to the documentation for alternative solver options:\n",
            "    https://scikit-learn.org/stable/modules/linear_model.html#logistic-regression\n",
            "  n_iter_i = _check_optimize_result(\n",
            "/home/lunaire/Documents/College/COMP90090/env/lib/python3.11/site-packages/sklearn/linear_model/_logistic.py:460: ConvergenceWarning: lbfgs failed to converge (status=1):\n",
            "STOP: TOTAL NO. of ITERATIONS REACHED LIMIT.\n",
            "\n",
            "Increase the number of iterations (max_iter) or scale the data as shown in:\n",
            "    https://scikit-learn.org/stable/modules/preprocessing.html\n",
            "Please also refer to the documentation for alternative solver options:\n",
            "    https://scikit-learn.org/stable/modules/linear_model.html#logistic-regression\n",
            "  n_iter_i = _check_optimize_result(\n",
            "/home/lunaire/Documents/College/COMP90090/env/lib/python3.11/site-packages/sklearn/linear_model/_logistic.py:460: ConvergenceWarning: lbfgs failed to converge (status=1):\n",
            "STOP: TOTAL NO. of ITERATIONS REACHED LIMIT.\n",
            "\n",
            "Increase the number of iterations (max_iter) or scale the data as shown in:\n",
            "    https://scikit-learn.org/stable/modules/preprocessing.html\n",
            "Please also refer to the documentation for alternative solver options:\n",
            "    https://scikit-learn.org/stable/modules/linear_model.html#logistic-regression\n",
            "  n_iter_i = _check_optimize_result(\n",
            "/home/lunaire/Documents/College/COMP90090/env/lib/python3.11/site-packages/sklearn/linear_model/_logistic.py:460: ConvergenceWarning: lbfgs failed to converge (status=1):\n",
            "STOP: TOTAL NO. of ITERATIONS REACHED LIMIT.\n",
            "\n",
            "Increase the number of iterations (max_iter) or scale the data as shown in:\n",
            "    https://scikit-learn.org/stable/modules/preprocessing.html\n",
            "Please also refer to the documentation for alternative solver options:\n",
            "    https://scikit-learn.org/stable/modules/linear_model.html#logistic-regression\n",
            "  n_iter_i = _check_optimize_result(\n",
            "/home/lunaire/Documents/College/COMP90090/env/lib/python3.11/site-packages/sklearn/linear_model/_logistic.py:460: ConvergenceWarning: lbfgs failed to converge (status=1):\n",
            "STOP: TOTAL NO. of ITERATIONS REACHED LIMIT.\n",
            "\n",
            "Increase the number of iterations (max_iter) or scale the data as shown in:\n",
            "    https://scikit-learn.org/stable/modules/preprocessing.html\n",
            "Please also refer to the documentation for alternative solver options:\n",
            "    https://scikit-learn.org/stable/modules/linear_model.html#logistic-regression\n",
            "  n_iter_i = _check_optimize_result(\n",
            "/home/lunaire/Documents/College/COMP90090/env/lib/python3.11/site-packages/sklearn/linear_model/_logistic.py:460: ConvergenceWarning: lbfgs failed to converge (status=1):\n",
            "STOP: TOTAL NO. of ITERATIONS REACHED LIMIT.\n",
            "\n",
            "Increase the number of iterations (max_iter) or scale the data as shown in:\n",
            "    https://scikit-learn.org/stable/modules/preprocessing.html\n",
            "Please also refer to the documentation for alternative solver options:\n",
            "    https://scikit-learn.org/stable/modules/linear_model.html#logistic-regression\n",
            "  n_iter_i = _check_optimize_result(\n",
            "/home/lunaire/Documents/College/COMP90090/env/lib/python3.11/site-packages/sklearn/linear_model/_logistic.py:460: ConvergenceWarning: lbfgs failed to converge (status=1):\n",
            "STOP: TOTAL NO. of ITERATIONS REACHED LIMIT.\n",
            "\n",
            "Increase the number of iterations (max_iter) or scale the data as shown in:\n",
            "    https://scikit-learn.org/stable/modules/preprocessing.html\n",
            "Please also refer to the documentation for alternative solver options:\n",
            "    https://scikit-learn.org/stable/modules/linear_model.html#logistic-regression\n",
            "  n_iter_i = _check_optimize_result(\n",
            "/home/lunaire/Documents/College/COMP90090/env/lib/python3.11/site-packages/sklearn/linear_model/_logistic.py:460: ConvergenceWarning: lbfgs failed to converge (status=1):\n",
            "STOP: TOTAL NO. of ITERATIONS REACHED LIMIT.\n",
            "\n",
            "Increase the number of iterations (max_iter) or scale the data as shown in:\n",
            "    https://scikit-learn.org/stable/modules/preprocessing.html\n",
            "Please also refer to the documentation for alternative solver options:\n",
            "    https://scikit-learn.org/stable/modules/linear_model.html#logistic-regression\n",
            "  n_iter_i = _check_optimize_result(\n",
            "/home/lunaire/Documents/College/COMP90090/env/lib/python3.11/site-packages/sklearn/linear_model/_logistic.py:460: ConvergenceWarning: lbfgs failed to converge (status=1):\n",
            "STOP: TOTAL NO. of ITERATIONS REACHED LIMIT.\n",
            "\n",
            "Increase the number of iterations (max_iter) or scale the data as shown in:\n",
            "    https://scikit-learn.org/stable/modules/preprocessing.html\n",
            "Please also refer to the documentation for alternative solver options:\n",
            "    https://scikit-learn.org/stable/modules/linear_model.html#logistic-regression\n",
            "  n_iter_i = _check_optimize_result(\n",
            "/home/lunaire/Documents/College/COMP90090/env/lib/python3.11/site-packages/sklearn/linear_model/_logistic.py:460: ConvergenceWarning: lbfgs failed to converge (status=1):\n",
            "STOP: TOTAL NO. of ITERATIONS REACHED LIMIT.\n",
            "\n",
            "Increase the number of iterations (max_iter) or scale the data as shown in:\n",
            "    https://scikit-learn.org/stable/modules/preprocessing.html\n",
            "Please also refer to the documentation for alternative solver options:\n",
            "    https://scikit-learn.org/stable/modules/linear_model.html#logistic-regression\n",
            "  n_iter_i = _check_optimize_result(\n",
            "/home/lunaire/Documents/College/COMP90090/env/lib/python3.11/site-packages/sklearn/linear_model/_logistic.py:460: ConvergenceWarning: lbfgs failed to converge (status=1):\n",
            "STOP: TOTAL NO. of ITERATIONS REACHED LIMIT.\n",
            "\n",
            "Increase the number of iterations (max_iter) or scale the data as shown in:\n",
            "    https://scikit-learn.org/stable/modules/preprocessing.html\n",
            "Please also refer to the documentation for alternative solver options:\n",
            "    https://scikit-learn.org/stable/modules/linear_model.html#logistic-regression\n",
            "  n_iter_i = _check_optimize_result(\n",
            "/home/lunaire/Documents/College/COMP90090/env/lib/python3.11/site-packages/sklearn/linear_model/_logistic.py:460: ConvergenceWarning: lbfgs failed to converge (status=1):\n",
            "STOP: TOTAL NO. of ITERATIONS REACHED LIMIT.\n",
            "\n",
            "Increase the number of iterations (max_iter) or scale the data as shown in:\n",
            "    https://scikit-learn.org/stable/modules/preprocessing.html\n",
            "Please also refer to the documentation for alternative solver options:\n",
            "    https://scikit-learn.org/stable/modules/linear_model.html#logistic-regression\n",
            "  n_iter_i = _check_optimize_result(\n",
            "/home/lunaire/Documents/College/COMP90090/env/lib/python3.11/site-packages/sklearn/linear_model/_logistic.py:460: ConvergenceWarning: lbfgs failed to converge (status=1):\n",
            "STOP: TOTAL NO. of ITERATIONS REACHED LIMIT.\n",
            "\n",
            "Increase the number of iterations (max_iter) or scale the data as shown in:\n",
            "    https://scikit-learn.org/stable/modules/preprocessing.html\n",
            "Please also refer to the documentation for alternative solver options:\n",
            "    https://scikit-learn.org/stable/modules/linear_model.html#logistic-regression\n",
            "  n_iter_i = _check_optimize_result(\n",
            "/home/lunaire/Documents/College/COMP90090/env/lib/python3.11/site-packages/sklearn/linear_model/_logistic.py:460: ConvergenceWarning: lbfgs failed to converge (status=1):\n",
            "STOP: TOTAL NO. of ITERATIONS REACHED LIMIT.\n",
            "\n",
            "Increase the number of iterations (max_iter) or scale the data as shown in:\n",
            "    https://scikit-learn.org/stable/modules/preprocessing.html\n",
            "Please also refer to the documentation for alternative solver options:\n",
            "    https://scikit-learn.org/stable/modules/linear_model.html#logistic-regression\n",
            "  n_iter_i = _check_optimize_result(\n",
            "/home/lunaire/Documents/College/COMP90090/env/lib/python3.11/site-packages/sklearn/linear_model/_logistic.py:460: ConvergenceWarning: lbfgs failed to converge (status=1):\n",
            "STOP: TOTAL NO. of ITERATIONS REACHED LIMIT.\n",
            "\n",
            "Increase the number of iterations (max_iter) or scale the data as shown in:\n",
            "    https://scikit-learn.org/stable/modules/preprocessing.html\n",
            "Please also refer to the documentation for alternative solver options:\n",
            "    https://scikit-learn.org/stable/modules/linear_model.html#logistic-regression\n",
            "  n_iter_i = _check_optimize_result(\n"
          ]
        },
        {
          "name": "stdout",
          "output_type": "stream",
          "text": [
            "* Best hyperparameters: {'C': 10, 'multi_class': 'multinomial'}\n",
            "* Best accuracy score: 0.20929930287001808\n",
            "MultinomialNB\n",
            "* Best hyperparameters: {'alpha': 10}\n",
            "* Best accuracy score: 0.16455762811991587\n",
            "LinearSVC\n"
          ]
        },
        {
          "name": "stderr",
          "output_type": "stream",
          "text": [
            "/home/lunaire/Documents/College/COMP90090/env/lib/python3.11/site-packages/sklearn/svm/_classes.py:32: FutureWarning: The default value of `dual` will change from `True` to `'auto'` in 1.5. Set the value of `dual` explicitly to suppress the warning.\n",
            "  warnings.warn(\n",
            "/home/lunaire/Documents/College/COMP90090/env/lib/python3.11/site-packages/sklearn/svm/_classes.py:32: FutureWarning: The default value of `dual` will change from `True` to `'auto'` in 1.5. Set the value of `dual` explicitly to suppress the warning.\n",
            "  warnings.warn(\n",
            "/home/lunaire/Documents/College/COMP90090/env/lib/python3.11/site-packages/sklearn/svm/_classes.py:32: FutureWarning: The default value of `dual` will change from `True` to `'auto'` in 1.5. Set the value of `dual` explicitly to suppress the warning.\n",
            "  warnings.warn(\n",
            "/home/lunaire/Documents/College/COMP90090/env/lib/python3.11/site-packages/sklearn/svm/_classes.py:32: FutureWarning: The default value of `dual` will change from `True` to `'auto'` in 1.5. Set the value of `dual` explicitly to suppress the warning.\n",
            "  warnings.warn(\n",
            "/home/lunaire/Documents/College/COMP90090/env/lib/python3.11/site-packages/sklearn/svm/_classes.py:32: FutureWarning: The default value of `dual` will change from `True` to `'auto'` in 1.5. Set the value of `dual` explicitly to suppress the warning.\n",
            "  warnings.warn(\n",
            "/home/lunaire/Documents/College/COMP90090/env/lib/python3.11/site-packages/sklearn/svm/_classes.py:32: FutureWarning: The default value of `dual` will change from `True` to `'auto'` in 1.5. Set the value of `dual` explicitly to suppress the warning.\n",
            "  warnings.warn(\n",
            "/home/lunaire/Documents/College/COMP90090/env/lib/python3.11/site-packages/sklearn/svm/_classes.py:32: FutureWarning: The default value of `dual` will change from `True` to `'auto'` in 1.5. Set the value of `dual` explicitly to suppress the warning.\n",
            "  warnings.warn(\n",
            "/home/lunaire/Documents/College/COMP90090/env/lib/python3.11/site-packages/sklearn/svm/_classes.py:32: FutureWarning: The default value of `dual` will change from `True` to `'auto'` in 1.5. Set the value of `dual` explicitly to suppress the warning.\n",
            "  warnings.warn(\n",
            "/home/lunaire/Documents/College/COMP90090/env/lib/python3.11/site-packages/sklearn/svm/_classes.py:32: FutureWarning: The default value of `dual` will change from `True` to `'auto'` in 1.5. Set the value of `dual` explicitly to suppress the warning.\n",
            "  warnings.warn(\n",
            "/home/lunaire/Documents/College/COMP90090/env/lib/python3.11/site-packages/sklearn/svm/_base.py:1250: ConvergenceWarning: Liblinear failed to converge, increase the number of iterations.\n",
            "  warnings.warn(\n",
            "/home/lunaire/Documents/College/COMP90090/env/lib/python3.11/site-packages/sklearn/svm/_classes.py:32: FutureWarning: The default value of `dual` will change from `True` to `'auto'` in 1.5. Set the value of `dual` explicitly to suppress the warning.\n",
            "  warnings.warn(\n",
            "/home/lunaire/Documents/College/COMP90090/env/lib/python3.11/site-packages/sklearn/svm/_base.py:1250: ConvergenceWarning: Liblinear failed to converge, increase the number of iterations.\n",
            "  warnings.warn(\n",
            "/home/lunaire/Documents/College/COMP90090/env/lib/python3.11/site-packages/sklearn/svm/_classes.py:32: FutureWarning: The default value of `dual` will change from `True` to `'auto'` in 1.5. Set the value of `dual` explicitly to suppress the warning.\n",
            "  warnings.warn(\n",
            "/home/lunaire/Documents/College/COMP90090/env/lib/python3.11/site-packages/sklearn/svm/_base.py:1250: ConvergenceWarning: Liblinear failed to converge, increase the number of iterations.\n",
            "  warnings.warn(\n",
            "/home/lunaire/Documents/College/COMP90090/env/lib/python3.11/site-packages/sklearn/svm/_classes.py:32: FutureWarning: The default value of `dual` will change from `True` to `'auto'` in 1.5. Set the value of `dual` explicitly to suppress the warning.\n",
            "  warnings.warn(\n",
            "/home/lunaire/Documents/College/COMP90090/env/lib/python3.11/site-packages/sklearn/svm/_base.py:1250: ConvergenceWarning: Liblinear failed to converge, increase the number of iterations.\n",
            "  warnings.warn(\n",
            "/home/lunaire/Documents/College/COMP90090/env/lib/python3.11/site-packages/sklearn/svm/_classes.py:32: FutureWarning: The default value of `dual` will change from `True` to `'auto'` in 1.5. Set the value of `dual` explicitly to suppress the warning.\n",
            "  warnings.warn(\n",
            "/home/lunaire/Documents/College/COMP90090/env/lib/python3.11/site-packages/sklearn/svm/_base.py:1250: ConvergenceWarning: Liblinear failed to converge, increase the number of iterations.\n",
            "  warnings.warn(\n",
            "/home/lunaire/Documents/College/COMP90090/env/lib/python3.11/site-packages/sklearn/svm/_classes.py:32: FutureWarning: The default value of `dual` will change from `True` to `'auto'` in 1.5. Set the value of `dual` explicitly to suppress the warning.\n",
            "  warnings.warn(\n",
            "/home/lunaire/Documents/College/COMP90090/env/lib/python3.11/site-packages/sklearn/svm/_base.py:1250: ConvergenceWarning: Liblinear failed to converge, increase the number of iterations.\n",
            "  warnings.warn(\n",
            "/home/lunaire/Documents/College/COMP90090/env/lib/python3.11/site-packages/sklearn/svm/_classes.py:32: FutureWarning: The default value of `dual` will change from `True` to `'auto'` in 1.5. Set the value of `dual` explicitly to suppress the warning.\n",
            "  warnings.warn(\n",
            "/home/lunaire/Documents/College/COMP90090/env/lib/python3.11/site-packages/sklearn/svm/_base.py:1250: ConvergenceWarning: Liblinear failed to converge, increase the number of iterations.\n",
            "  warnings.warn(\n",
            "/home/lunaire/Documents/College/COMP90090/env/lib/python3.11/site-packages/sklearn/svm/_classes.py:32: FutureWarning: The default value of `dual` will change from `True` to `'auto'` in 1.5. Set the value of `dual` explicitly to suppress the warning.\n",
            "  warnings.warn(\n",
            "/home/lunaire/Documents/College/COMP90090/env/lib/python3.11/site-packages/sklearn/svm/_base.py:1250: ConvergenceWarning: Liblinear failed to converge, increase the number of iterations.\n",
            "  warnings.warn(\n",
            "/home/lunaire/Documents/College/COMP90090/env/lib/python3.11/site-packages/sklearn/svm/_classes.py:32: FutureWarning: The default value of `dual` will change from `True` to `'auto'` in 1.5. Set the value of `dual` explicitly to suppress the warning.\n",
            "  warnings.warn(\n",
            "/home/lunaire/Documents/College/COMP90090/env/lib/python3.11/site-packages/sklearn/svm/_base.py:1250: ConvergenceWarning: Liblinear failed to converge, increase the number of iterations.\n",
            "  warnings.warn(\n",
            "/home/lunaire/Documents/College/COMP90090/env/lib/python3.11/site-packages/sklearn/svm/_classes.py:32: FutureWarning: The default value of `dual` will change from `True` to `'auto'` in 1.5. Set the value of `dual` explicitly to suppress the warning.\n",
            "  warnings.warn(\n",
            "/home/lunaire/Documents/College/COMP90090/env/lib/python3.11/site-packages/sklearn/svm/_base.py:1250: ConvergenceWarning: Liblinear failed to converge, increase the number of iterations.\n",
            "  warnings.warn(\n",
            "/home/lunaire/Documents/College/COMP90090/env/lib/python3.11/site-packages/sklearn/svm/_base.py:1250: ConvergenceWarning: Liblinear failed to converge, increase the number of iterations.\n",
            "  warnings.warn(\n",
            "/home/lunaire/Documents/College/COMP90090/env/lib/python3.11/site-packages/sklearn/svm/_classes.py:32: FutureWarning: The default value of `dual` will change from `True` to `'auto'` in 1.5. Set the value of `dual` explicitly to suppress the warning.\n",
            "  warnings.warn(\n",
            "/home/lunaire/Documents/College/COMP90090/env/lib/python3.11/site-packages/sklearn/svm/_classes.py:32: FutureWarning: The default value of `dual` will change from `True` to `'auto'` in 1.5. Set the value of `dual` explicitly to suppress the warning.\n",
            "  warnings.warn(\n",
            "/home/lunaire/Documents/College/COMP90090/env/lib/python3.11/site-packages/sklearn/svm/_base.py:1250: ConvergenceWarning: Liblinear failed to converge, increase the number of iterations.\n",
            "  warnings.warn(\n",
            "/home/lunaire/Documents/College/COMP90090/env/lib/python3.11/site-packages/sklearn/svm/_classes.py:32: FutureWarning: The default value of `dual` will change from `True` to `'auto'` in 1.5. Set the value of `dual` explicitly to suppress the warning.\n",
            "  warnings.warn(\n",
            "/home/lunaire/Documents/College/COMP90090/env/lib/python3.11/site-packages/sklearn/svm/_base.py:1250: ConvergenceWarning: Liblinear failed to converge, increase the number of iterations.\n",
            "  warnings.warn(\n",
            "/home/lunaire/Documents/College/COMP90090/env/lib/python3.11/site-packages/sklearn/svm/_classes.py:32: FutureWarning: The default value of `dual` will change from `True` to `'auto'` in 1.5. Set the value of `dual` explicitly to suppress the warning.\n",
            "  warnings.warn(\n",
            "/home/lunaire/Documents/College/COMP90090/env/lib/python3.11/site-packages/sklearn/svm/_base.py:1250: ConvergenceWarning: Liblinear failed to converge, increase the number of iterations.\n",
            "  warnings.warn(\n",
            "/home/lunaire/Documents/College/COMP90090/env/lib/python3.11/site-packages/sklearn/svm/_base.py:1250: ConvergenceWarning: Liblinear failed to converge, increase the number of iterations.\n",
            "  warnings.warn(\n",
            "/home/lunaire/Documents/College/COMP90090/env/lib/python3.11/site-packages/sklearn/svm/_classes.py:32: FutureWarning: The default value of `dual` will change from `True` to `'auto'` in 1.5. Set the value of `dual` explicitly to suppress the warning.\n",
            "  warnings.warn(\n",
            "/home/lunaire/Documents/College/COMP90090/env/lib/python3.11/site-packages/sklearn/svm/_classes.py:32: FutureWarning: The default value of `dual` will change from `True` to `'auto'` in 1.5. Set the value of `dual` explicitly to suppress the warning.\n",
            "  warnings.warn(\n",
            "/home/lunaire/Documents/College/COMP90090/env/lib/python3.11/site-packages/sklearn/svm/_base.py:1250: ConvergenceWarning: Liblinear failed to converge, increase the number of iterations.\n",
            "  warnings.warn(\n",
            "/home/lunaire/Documents/College/COMP90090/env/lib/python3.11/site-packages/sklearn/svm/_classes.py:32: FutureWarning: The default value of `dual` will change from `True` to `'auto'` in 1.5. Set the value of `dual` explicitly to suppress the warning.\n",
            "  warnings.warn(\n",
            "/home/lunaire/Documents/College/COMP90090/env/lib/python3.11/site-packages/sklearn/svm/_base.py:1250: ConvergenceWarning: Liblinear failed to converge, increase the number of iterations.\n",
            "  warnings.warn(\n",
            "/home/lunaire/Documents/College/COMP90090/env/lib/python3.11/site-packages/sklearn/svm/_base.py:1250: ConvergenceWarning: Liblinear failed to converge, increase the number of iterations.\n",
            "  warnings.warn(\n",
            "/home/lunaire/Documents/College/COMP90090/env/lib/python3.11/site-packages/sklearn/svm/_base.py:1250: ConvergenceWarning: Liblinear failed to converge, increase the number of iterations.\n",
            "  warnings.warn(\n",
            "/home/lunaire/Documents/College/COMP90090/env/lib/python3.11/site-packages/sklearn/svm/_base.py:1250: ConvergenceWarning: Liblinear failed to converge, increase the number of iterations.\n",
            "  warnings.warn(\n",
            "/home/lunaire/Documents/College/COMP90090/env/lib/python3.11/site-packages/sklearn/svm/_base.py:1250: ConvergenceWarning: Liblinear failed to converge, increase the number of iterations.\n",
            "  warnings.warn(\n",
            "/home/lunaire/Documents/College/COMP90090/env/lib/python3.11/site-packages/sklearn/svm/_base.py:1250: ConvergenceWarning: Liblinear failed to converge, increase the number of iterations.\n",
            "  warnings.warn(\n",
            "/home/lunaire/Documents/College/COMP90090/env/lib/python3.11/site-packages/sklearn/svm/_base.py:1250: ConvergenceWarning: Liblinear failed to converge, increase the number of iterations.\n",
            "  warnings.warn(\n",
            "/home/lunaire/Documents/College/COMP90090/env/lib/python3.11/site-packages/sklearn/svm/_base.py:1250: ConvergenceWarning: Liblinear failed to converge, increase the number of iterations.\n",
            "  warnings.warn(\n"
          ]
        },
        {
          "name": "stdout",
          "output_type": "stream",
          "text": [
            "* Best hyperparameters: {'C': 10, 'multi_class': 'ovr'}\n",
            "* Best accuracy score: 0.22870335504812803\n",
            "RandomForestClassifier\n",
            "* Best hyperparameters: {'max_depth': 20, 'n_estimators': 100}\n",
            "* Best accuracy score: 0.2616112762951438\n"
          ]
        }
      ],
      "source": [
        "nb = MultinomialNB()\n",
        "svm = LinearSVC()\n",
        "rf = RandomForestClassifier()\n",
        "lg = LogisticRegression()\n",
        "models = [lg, nb, svm, rf]\n",
        "\n",
        "param_grids = [\n",
        "    {'C': [0.001, 0.01, 0.1, 1, 10], 'multi_class': ['multinomial']},\n",
        "    {'alpha': [0.001, 0.01, 0.1, 1, 10]},\n",
        "    {'C': [0.001, 0.01, 0.1, 1, 10], 'multi_class': ['ovr']},\n",
        "    {'n_estimators': [50, 100, 200], 'max_depth': [None, 10, 20]}\n",
        "]\n",
        "\n",
        "mgrids = []\n",
        "# Perform hyperparameter tuning for each model\n",
        "for i, model in enumerate(models):\n",
        "    param_grid = param_grids[i]\n",
        "    print(model.__class__.__name__)\n",
        "\n",
        "    # For common training data\n",
        "    mgrids.append(mtune(model, param_grid, X_train, my_train))"
      ]
    },
    {
      "cell_type": "code",
      "execution_count": 16,
      "metadata": {},
      "outputs": [
        {
          "name": "stdout",
          "output_type": "stream",
          "text": [
            "Feature importances:\n",
            "Feature 1: 0.2409 - Index: 3\n",
            "negative_ratio\n",
            "Feature 2: 0.2335 - Index: 1\n",
            "mean_msd\n",
            "Feature 3: 0.2314 - Index: 2\n",
            "positive_ratio\n",
            "Feature 4: 0.1834 - Index: 0\n",
            "max_msd\n",
            "Feature 5: 0.0718 - Index: 5\n",
            "negative_combo\n",
            "Feature 6: 0.0390 - Index: 4\n",
            "positive_combo\n"
          ]
        },
        {
          "data": {
            "image/png": "[encoded data removed]",
            "text/plain": [
              "<Figure size 800x600 with 1 Axes>"
            ]
          },
          "metadata": {},
          "output_type": "display_data"
        }
      ],
      "source": [
        "import matplotlib.pyplot as plt\n",
        "\n",
        "importances = mgrids[3].feature_importances_\n",
        "\n",
        "# Sort feature importances in descending order\n",
        "indices = sorted(range(len(importances)), key=lambda i: importances[i], reverse=True)\n",
        "features_impt = X_train.columns[indices]\n",
        "\n",
        "# Print feature importances\n",
        "print(\"Feature importances:\")\n",
        "for i in range(len(importances)):\n",
        "    print(f\"Feature {i+1}: {importances[indices[i]]:.4f} - Index: {indices[i]}\")\n",
        "    print(features_impt[i])\n",
        "\n",
        "# Visualize feature importances\n",
        "plt.figure(figsize=(8, 6))\n",
        "plt.title(\"Feature Importances in Multi-class Classification\")\n",
        "plt.bar([\"Negative Ratio\", \"Average MSD\", \"Positive Ratio\", \"Max MSD\", \"Negative Streak\", \"Positive Strek\"], importances[indices], align=\"center\", color='#C8A160')\n",
        "plt.xticks(rotation=50)\n",
        "plt.ylabel(\"Importance\")\n",
        "plt.show()"
      ]
    },
    {
      "cell_type": "code",
      "execution_count": 35,
      "metadata": {},
      "outputs": [
        {
          "data": {
            "image/png": "[encoded data removed]",
            "text/plain": [
              "<Figure size 1000x500 with 1 Axes>"
            ]
          },
          "metadata": {},
          "output_type": "display_data"
        }
      ],
      "source": [
        "#Feature importance\n",
        "features = X_train.columns\n",
        "b_importance = bgrids[3].feature_importances_ / sum(bgrids[3].feature_importances_)\n",
        "m_importance = mgrids[3].feature_importances_ / sum(bgrids[3].feature_importances_)\n",
        "\n",
        "\n",
        "# Create a DataFrame for the feature importances\n",
        "data = {\n",
        "    'Features': features,\n",
        "    'Binary classification': b_importance,\n",
        "    'Multi-class classification': m_importance,\n",
        "}\n",
        "\n",
        "df = pd.DataFrame(data)\n",
        "\n",
        "# Set the Features column as the index\n",
        "df.set_index('Features', inplace=True)\n",
        "\n",
        "# Sort the DataFrame based on the sum of feature importances across all models\n",
        "df_sorted = df.sum(axis=1).sort_values()\n",
        "df_sorted = df.loc[df_sorted.index]\n",
        "\n",
        "# Plotting the sorted stacked bar horizontal plot\n",
        "ax = df_sorted.plot(kind='barh', stacked=True, figsize=(10, 5), color=['#0D3639', '#C8A160'])\n",
        "ax.set_yticklabels([\"Positive Streak\", \"Negative Streak\", \"Max MSD\", \"Average MSD\",\"Positive Ratio\", \"Negative Ratio\"], fontsize=20)\n",
        "ax.set_xticklabels([])\n",
        "ax.set_ylabel(None)\n",
        "ax.set_title('Feature Importance', fontsize=20)\n",
        "ax.legend(fontsize=20);\n",
        "plt.show()"
      ]
    },
    {
      "attachments": {},
      "cell_type": "markdown",
      "metadata": {
        "id": "1OzeJP-s3oaN"
      },
      "source": [
        "# Evaluate"
      ]
    },
    {
      "cell_type": "code",
      "execution_count": 61,
      "metadata": {
        "id": "dN7YcWfr_Rg1"
      },
      "outputs": [],
      "source": [
        "def evaluate(y, y_pred, y_pred_proba=None):\n",
        "    report = classification_report(y, y_pred)\n",
        "    print('Classification Report:')\n",
        "    print(report)\n",
        "\n",
        "    if y_pred_proba is not None:\n",
        "        auroc = roc_auc_score(y, y_pred_proba)\n",
        "        print('AUROC:', round(auroc, 4))\n",
        "    print()\n",
        "\n",
        "    return classification_report(y, y_pred, output_dict=True)"
      ]
    },
    {
      "cell_type": "code",
      "execution_count": 62,
      "metadata": {
        "id": "OZSXxx6noTsU"
      },
      "outputs": [],
      "source": [
        "breport = pd.DataFrame(columns=['P', 'R', 'F1'], index=['Logistic Regression', 'Naive Bayes', 'Support Vector Machine', 'Random Forest'])\n",
        "mreport = pd.DataFrame(columns=['P', 'R', 'F1'], index=['Logistic Regression', 'Naive Bayes', 'Support Vector Machine', 'Random Forest'])"
      ]
    },
    {
      "attachments": {},
      "cell_type": "markdown",
      "metadata": {
        "id": "Rk5YScYSFA6y"
      },
      "source": [
        "## Binary classification"
      ]
    },
    {
      "cell_type": "code",
      "execution_count": 63,
      "metadata": {
        "colab": {
          "base_uri": "https://localhost:8080/"
        },
        "id": "u9dfvquaE-Wh",
        "outputId": "efde388c-63bf-485d-b3cb-76cef76f725e"
      },
      "outputs": [
        {
          "name": "stdout",
          "output_type": "stream",
          "text": [
            "============ LogisticRegression ============\n",
            "Classification Report:\n",
            "              precision    recall  f1-score   support\n",
            "\n",
            "           0       0.67      0.12      0.20      1640\n",
            "           1       0.78      0.98      0.87      5339\n",
            "\n",
            "    accuracy                           0.78      6979\n",
            "   macro avg       0.73      0.55      0.53      6979\n",
            "weighted avg       0.76      0.78      0.71      6979\n",
            "\n",
            "AUROC: 0.6823\n",
            "\n",
            "============ MultinomialNB ============\n",
            "Classification Report:\n",
            "              precision    recall  f1-score   support\n",
            "\n",
            "           0       0.25      0.02      0.03      1640\n",
            "           1       0.77      0.99      0.86      5339\n",
            "\n",
            "    accuracy                           0.76      6979\n",
            "   macro avg       0.51      0.50      0.45      6979\n",
            "weighted avg       0.65      0.76      0.67      6979\n",
            "\n",
            "AUROC: 0.5488\n",
            "\n",
            "============ LinearSVC ============\n",
            "Classification Report:\n",
            "              precision    recall  f1-score   support\n",
            "\n",
            "           0       0.69      0.08      0.15      1640\n",
            "           1       0.78      0.99      0.87      5339\n",
            "\n",
            "    accuracy                           0.78      6979\n",
            "   macro avg       0.74      0.54      0.51      6979\n",
            "weighted avg       0.76      0.78      0.70      6979\n",
            "\n",
            "\n",
            "============ RandomForestClassifier ============\n",
            "Classification Report:\n",
            "              precision    recall  f1-score   support\n",
            "\n",
            "           0       0.69      0.17      0.27      1640\n",
            "           1       0.79      0.98      0.88      5339\n",
            "\n",
            "    accuracy                           0.79      6979\n",
            "   macro avg       0.74      0.57      0.58      6979\n",
            "weighted avg       0.77      0.79      0.73      6979\n",
            "\n",
            "AUROC: 0.7196\n",
            "\n"
          ]
        }
      ],
      "source": [
        "for i, model in enumerate(bgrids):\n",
        "    print(\"============\", model.__class__.__name__, \"============\")\n",
        "    y_pred = model.predict(X_test)\n",
        "    if hasattr(model, \"predict_proba\"):\n",
        "        report = evaluate(y_test, y_pred, model.predict_proba(X_test)[::,1])\n",
        "    else:\n",
        "        report = evaluate(y_test, y_pred)\n",
        "\n",
        "    breport.iloc[i,:] = [round(report['weighted avg']['precision'],2), round(report['weighted avg']['recall'],2), round(report['weighted avg']['f1-score'],2)]"
      ]
    },
    {
      "cell_type": "code",
      "execution_count": 64,
      "metadata": {
        "colab": {
          "base_uri": "https://localhost:8080/",
          "height": 175
        },
        "id": "TLOjS2MfuZTA",
        "outputId": "5ef39c4b-3a9b-4b85-ccf0-895fe585d4ba"
      },
      "outputs": [
        {
          "data": {
            "text/html": [
              "<div>\n",
              "<style scoped>\n",
              "    .dataframe tbody tr th:only-of-type {\n",
              "        vertical-align: middle;\n",
              "    }\n",
              "\n",
              "    .dataframe tbody tr th {\n",
              "        vertical-align: top;\n",
              "    }\n",
              "\n",
              "    .dataframe thead th {\n",
              "        text-align: right;\n",
              "    }\n",
              "</style>\n",
              "<table border=\"1\" class=\"dataframe\">\n",
              "  <thead>\n",
              "    <tr style=\"text-align: right;\">\n",
              "      <th></th>\n",
              "      <th>P</th>\n",
              "      <th>R</th>\n",
              "      <th>F1</th>\n",
              "    </tr>\n",
              "  </thead>\n",
              "  <tbody>\n",
              "    <tr>\n",
              "      <th>Logistic Regression</th>\n",
              "      <td>0.76</td>\n",
              "      <td>0.78</td>\n",
              "      <td>0.71</td>\n",
              "    </tr>\n",
              "    <tr>\n",
              "      <th>Naive Bayes</th>\n",
              "      <td>0.65</td>\n",
              "      <td>0.76</td>\n",
              "      <td>0.67</td>\n",
              "    </tr>\n",
              "    <tr>\n",
              "      <th>Support Vector Machine</th>\n",
              "      <td>0.76</td>\n",
              "      <td>0.78</td>\n",
              "      <td>0.7</td>\n",
              "    </tr>\n",
              "    <tr>\n",
              "      <th>Random Forest</th>\n",
              "      <td>0.77</td>\n",
              "      <td>0.79</td>\n",
              "      <td>0.73</td>\n",
              "    </tr>\n",
              "  </tbody>\n",
              "</table>\n",
              "</div>"
            ],
            "text/plain": [
              "                           P     R    F1\n",
              "Logistic Regression     0.76  0.78  0.71\n",
              "Naive Bayes             0.65  0.76  0.67\n",
              "Support Vector Machine  0.76  0.78   0.7\n",
              "Random Forest           0.77  0.79  0.73"
            ]
          },
          "execution_count": 64,
          "metadata": {},
          "output_type": "execute_result"
        }
      ],
      "source": [
        "breport"
      ]
    },
    {
      "cell_type": "code",
      "execution_count": 16,
      "metadata": {},
      "outputs": [
        {
          "ename": "ImportError",
          "evalue": "Missing optional dependency 'Jinja2'. DataFrame.style requires jinja2. Use pip or conda to install Jinja2.",
          "output_type": "error",
          "traceback": [
            "\u001b[0;31m---------------------------------------------------------------------------\u001b[0m",
            "\u001b[0;31mModuleNotFoundError\u001b[0m                       Traceback (most recent call last)",
            "File \u001b[0;32m~/Documents/College/COMP90090/env/lib/python3.11/site-packages/pandas/compat/_optional.py:132\u001b[0m, in \u001b[0;36mimport_optional_dependency\u001b[0;34m(name, extra, errors, min_version)\u001b[0m\n\u001b[1;32m    131\u001b[0m \u001b[39mtry\u001b[39;00m:\n\u001b[0;32m--> 132\u001b[0m     module \u001b[39m=\u001b[39m importlib\u001b[39m.\u001b[39;49mimport_module(name)\n\u001b[1;32m    133\u001b[0m \u001b[39mexcept\u001b[39;00m \u001b[39mImportError\u001b[39;00m:\n",
            "File \u001b[0;32m/usr/lib/python3.11/importlib/__init__.py:126\u001b[0m, in \u001b[0;36mimport_module\u001b[0;34m(name, package)\u001b[0m\n\u001b[1;32m    125\u001b[0m         level \u001b[39m+\u001b[39m\u001b[39m=\u001b[39m \u001b[39m1\u001b[39m\n\u001b[0;32m--> 126\u001b[0m \u001b[39mreturn\u001b[39;00m _bootstrap\u001b[39m.\u001b[39;49m_gcd_import(name[level:], package, level)\n",
            "File \u001b[0;32m<frozen importlib._bootstrap>:1204\u001b[0m, in \u001b[0;36m_gcd_import\u001b[0;34m(name, package, level)\u001b[0m\n",
            "File \u001b[0;32m<frozen importlib._bootstrap>:1176\u001b[0m, in \u001b[0;36m_find_and_load\u001b[0;34m(name, import_)\u001b[0m\n",
            "File \u001b[0;32m<frozen importlib._bootstrap>:1140\u001b[0m, in \u001b[0;36m_find_and_load_unlocked\u001b[0;34m(name, import_)\u001b[0m\n",
            "\u001b[0;31mModuleNotFoundError\u001b[0m: No module named 'jinja2'",
            "\nDuring handling of the above exception, another exception occurred:\n",
            "\u001b[0;31mImportError\u001b[0m                               Traceback (most recent call last)",
            "\u001b[1;32m/home/lunaire/Documents/College/COMP90090/code/prediction.ipynb Cell 23\u001b[0m line \u001b[0;36m1\n\u001b[0;32m----> <a href='vscode-notebook-cell:/home/lunaire/Documents/College/COMP90090/code/prediction.ipynb#X31sZmlsZQ%3D%3D?line=0'>1</a>\u001b[0m breport\u001b[39m.\u001b[39;49mto_latex()\n",
            "File \u001b[0;32m~/Documents/College/COMP90090/env/lib/python3.11/site-packages/pandas/core/generic.py:3589\u001b[0m, in \u001b[0;36mNDFrame.to_latex\u001b[0;34m(self, buf, columns, header, index, na_rep, formatters, float_format, sparsify, index_names, bold_rows, column_format, longtable, escape, encoding, decimal, multicolumn, multicolumn_format, multirow, caption, label, position)\u001b[0m\n\u001b[1;32m   3567\u001b[0m     hide_\u001b[39m.\u001b[39mappend({\u001b[39m\"\u001b[39m\u001b[39mnames\u001b[39m\u001b[39m\"\u001b[39m: \u001b[39mTrue\u001b[39;00m, \u001b[39m\"\u001b[39m\u001b[39maxis\u001b[39m\u001b[39m\"\u001b[39m: \u001b[39m\"\u001b[39m\u001b[39mindex\u001b[39m\u001b[39m\"\u001b[39m})\n\u001b[1;32m   3569\u001b[0m render_kwargs_ \u001b[39m=\u001b[39m {\n\u001b[1;32m   3570\u001b[0m     \u001b[39m\"\u001b[39m\u001b[39mhrules\u001b[39m\u001b[39m\"\u001b[39m: \u001b[39mTrue\u001b[39;00m,\n\u001b[1;32m   3571\u001b[0m     \u001b[39m\"\u001b[39m\u001b[39msparse_index\u001b[39m\u001b[39m\"\u001b[39m: sparsify,\n\u001b[0;32m   (...)\u001b[0m\n\u001b[1;32m   3586\u001b[0m     \u001b[39m\"\u001b[39m\u001b[39mbold_rows\u001b[39m\u001b[39m\"\u001b[39m: bold_rows,\n\u001b[1;32m   3587\u001b[0m }\n\u001b[0;32m-> 3589\u001b[0m \u001b[39mreturn\u001b[39;00m \u001b[39mself\u001b[39;49m\u001b[39m.\u001b[39;49m_to_latex_via_styler(\n\u001b[1;32m   3590\u001b[0m     buf,\n\u001b[1;32m   3591\u001b[0m     hide\u001b[39m=\u001b[39;49mhide_,\n\u001b[1;32m   3592\u001b[0m     relabel_index\u001b[39m=\u001b[39;49mrelabel_index_,\n\u001b[1;32m   3593\u001b[0m     \u001b[39mformat\u001b[39;49m\u001b[39m=\u001b[39;49m{\u001b[39m\"\u001b[39;49m\u001b[39mformatter\u001b[39;49m\u001b[39m\"\u001b[39;49m: formatters_, \u001b[39m*\u001b[39;49m\u001b[39m*\u001b[39;49mbase_format_},\n\u001b[1;32m   3594\u001b[0m     format_index\u001b[39m=\u001b[39;49mformat_index_,\n\u001b[1;32m   3595\u001b[0m     render_kwargs\u001b[39m=\u001b[39;49mrender_kwargs_,\n\u001b[1;32m   3596\u001b[0m )\n",
            "File \u001b[0;32m~/Documents/College/COMP90090/env/lib/python3.11/site-packages/pandas/core/generic.py:3646\u001b[0m, in \u001b[0;36mNDFrame._to_latex_via_styler\u001b[0;34m(self, buf, hide, relabel_index, format, format_index, render_kwargs)\u001b[0m\n\u001b[1;32m   3598\u001b[0m \u001b[39m@final\u001b[39m\n\u001b[1;32m   3599\u001b[0m \u001b[39mdef\u001b[39;00m \u001b[39m_to_latex_via_styler\u001b[39m(\n\u001b[1;32m   3600\u001b[0m     \u001b[39mself\u001b[39m,\n\u001b[0;32m   (...)\u001b[0m\n\u001b[1;32m   3607\u001b[0m     render_kwargs: \u001b[39mdict\u001b[39m \u001b[39m|\u001b[39m \u001b[39mNone\u001b[39;00m \u001b[39m=\u001b[39m \u001b[39mNone\u001b[39;00m,\n\u001b[1;32m   3608\u001b[0m ):\n\u001b[1;32m   3609\u001b[0m \u001b[39m    \u001b[39m\u001b[39m\"\"\"\u001b[39;00m\n\u001b[1;32m   3610\u001b[0m \u001b[39m    Render object to a LaTeX tabular, longtable, or nested table.\u001b[39;00m\n\u001b[1;32m   3611\u001b[0m \n\u001b[0;32m   (...)\u001b[0m\n\u001b[1;32m   3644\u001b[0m \u001b[39m        If buf is None, returns the result as a string. Otherwise returns None.\u001b[39;00m\n\u001b[1;32m   3645\u001b[0m \u001b[39m    \"\"\"\u001b[39;00m\n\u001b[0;32m-> 3646\u001b[0m     \u001b[39mfrom\u001b[39;00m \u001b[39mpandas\u001b[39;00m\u001b[39m.\u001b[39;00m\u001b[39mio\u001b[39;00m\u001b[39m.\u001b[39;00m\u001b[39mformats\u001b[39;00m\u001b[39m.\u001b[39;00m\u001b[39mstyle\u001b[39;00m \u001b[39mimport\u001b[39;00m Styler\n\u001b[1;32m   3648\u001b[0m     \u001b[39mself\u001b[39m \u001b[39m=\u001b[39m cast(\u001b[39m\"\u001b[39m\u001b[39mDataFrame\u001b[39m\u001b[39m\"\u001b[39m, \u001b[39mself\u001b[39m)\n\u001b[1;32m   3649\u001b[0m     styler \u001b[39m=\u001b[39m Styler(\u001b[39mself\u001b[39m, uuid\u001b[39m=\u001b[39m\u001b[39m\"\u001b[39m\u001b[39m\"\u001b[39m)\n",
            "File \u001b[0;32m~/Documents/College/COMP90090/env/lib/python3.11/site-packages/pandas/io/formats/style.py:44\u001b[0m\n\u001b[1;32m     40\u001b[0m \u001b[39mfrom\u001b[39;00m \u001b[39mpandas\u001b[39;00m\u001b[39m.\u001b[39;00m\u001b[39mcore\u001b[39;00m\u001b[39m.\u001b[39;00m\u001b[39mshared_docs\u001b[39;00m \u001b[39mimport\u001b[39;00m _shared_docs\n\u001b[1;32m     42\u001b[0m \u001b[39mfrom\u001b[39;00m \u001b[39mpandas\u001b[39;00m\u001b[39m.\u001b[39;00m\u001b[39mio\u001b[39;00m\u001b[39m.\u001b[39;00m\u001b[39mformats\u001b[39;00m\u001b[39m.\u001b[39;00m\u001b[39mformat\u001b[39;00m \u001b[39mimport\u001b[39;00m save_to_buffer\n\u001b[0;32m---> 44\u001b[0m jinja2 \u001b[39m=\u001b[39m import_optional_dependency(\u001b[39m\"\u001b[39;49m\u001b[39mjinja2\u001b[39;49m\u001b[39m\"\u001b[39;49m, extra\u001b[39m=\u001b[39;49m\u001b[39m\"\u001b[39;49m\u001b[39mDataFrame.style requires jinja2.\u001b[39;49m\u001b[39m\"\u001b[39;49m)\n\u001b[1;32m     46\u001b[0m \u001b[39mfrom\u001b[39;00m \u001b[39mpandas\u001b[39;00m\u001b[39m.\u001b[39;00m\u001b[39mio\u001b[39;00m\u001b[39m.\u001b[39;00m\u001b[39mformats\u001b[39;00m\u001b[39m.\u001b[39;00m\u001b[39mstyle_render\u001b[39;00m \u001b[39mimport\u001b[39;00m (\n\u001b[1;32m     47\u001b[0m     CSSProperties,\n\u001b[1;32m     48\u001b[0m     CSSStyles,\n\u001b[0;32m   (...)\u001b[0m\n\u001b[1;32m     56\u001b[0m     refactor_levels,\n\u001b[1;32m     57\u001b[0m )\n\u001b[1;32m     59\u001b[0m \u001b[39mif\u001b[39;00m TYPE_CHECKING:\n",
            "File \u001b[0;32m~/Documents/College/COMP90090/env/lib/python3.11/site-packages/pandas/compat/_optional.py:135\u001b[0m, in \u001b[0;36mimport_optional_dependency\u001b[0;34m(name, extra, errors, min_version)\u001b[0m\n\u001b[1;32m    133\u001b[0m \u001b[39mexcept\u001b[39;00m \u001b[39mImportError\u001b[39;00m:\n\u001b[1;32m    134\u001b[0m     \u001b[39mif\u001b[39;00m errors \u001b[39m==\u001b[39m \u001b[39m\"\u001b[39m\u001b[39mraise\u001b[39m\u001b[39m\"\u001b[39m:\n\u001b[0;32m--> 135\u001b[0m         \u001b[39mraise\u001b[39;00m \u001b[39mImportError\u001b[39;00m(msg)\n\u001b[1;32m    136\u001b[0m     \u001b[39mreturn\u001b[39;00m \u001b[39mNone\u001b[39;00m\n\u001b[1;32m    138\u001b[0m \u001b[39m# Handle submodules: if we have submodule, grab parent module from sys.modules\u001b[39;00m\n",
            "\u001b[0;31mImportError\u001b[0m: Missing optional dependency 'Jinja2'. DataFrame.style requires jinja2. Use pip or conda to install Jinja2."
          ]
        }
      ],
      "source": [
        "breport.to_latex()"
      ]
    },
    {
      "attachments": {},
      "cell_type": "markdown",
      "metadata": {
        "id": "51yezHnBGc0b"
      },
      "source": [
        "## Multilabel classifiction"
      ]
    },
    {
      "cell_type": "code",
      "execution_count": 65,
      "metadata": {
        "colab": {
          "base_uri": "https://localhost:8080/"
        },
        "id": "ZO4E7YD3CWo8",
        "outputId": "ff7624ad-bfab-4e91-90bd-8bb7d6f52478"
      },
      "outputs": [
        {
          "name": "stdout",
          "output_type": "stream",
          "text": [
            "============ LogisticRegression ============\n",
            "Classification Report:\n",
            "              precision    recall  f1-score   support\n",
            "\n",
            "        adhd       0.28      0.56      0.37      1619\n",
            "     anxiety       0.23      0.02      0.04       968\n",
            "     bipolar       0.00      0.00      0.00       330\n",
            "  depression       0.22      0.08      0.12      1360\n",
            "         mdd       0.00      0.00      0.00        65\n",
            "         neg       0.33      0.62      0.43      1640\n",
            "         ocd       0.00      0.00      0.00       265\n",
            "         ppd       0.00      0.00      0.00        49\n",
            "        ptsd       0.00      0.00      0.00       683\n",
            "\n",
            "    accuracy                           0.29      6979\n",
            "   macro avg       0.12      0.14      0.11      6979\n",
            "weighted avg       0.22      0.29      0.22      6979\n",
            "\n",
            "\n",
            "============ MultinomialNB ============\n",
            "Classification Report:\n",
            "              precision    recall  f1-score   support\n",
            "\n",
            "        adhd       0.25      0.80      0.38      1619\n",
            "     anxiety       0.21      0.11      0.15       968\n",
            "     bipolar       0.00      0.00      0.00       330\n",
            "  depression       0.00      0.00      0.00      1360\n",
            "         mdd       0.00      0.00      0.00        65\n",
            "         neg       0.29      0.22      0.25      1640\n",
            "         ocd       0.00      0.00      0.00       265\n",
            "         ppd       0.00      0.00      0.00        49\n",
            "        ptsd       0.00      0.00      0.00       683\n",
            "\n",
            "    accuracy                           0.25      6979\n",
            "   macro avg       0.08      0.13      0.09      6979\n",
            "weighted avg       0.15      0.25      0.17      6979\n",
            "\n",
            "\n",
            "============ LinearSVC ============\n",
            "Classification Report:\n",
            "              precision    recall  f1-score   support\n",
            "\n",
            "        adhd       0.28      0.55      0.37      1619\n",
            "     anxiety       0.17      0.01      0.02       968\n",
            "     bipolar       0.00      0.00      0.00       330\n",
            "  depression       0.26      0.09      0.13      1360\n",
            "         mdd       0.00      0.00      0.00        65\n",
            "         neg       0.32      0.65      0.43      1640\n",
            "         ocd       0.00      0.00      0.00       265\n",
            "         ppd       0.00      0.00      0.00        49\n",
            "        ptsd       0.00      0.00      0.00       683\n",
            "\n",
            "    accuracy                           0.30      6979\n",
            "   macro avg       0.12      0.14      0.11      6979\n",
            "weighted avg       0.22      0.30      0.22      6979\n",
            "\n",
            "\n",
            "============ RandomForestClassifier ============\n",
            "Classification Report:\n",
            "              precision    recall  f1-score   support\n",
            "\n",
            "        adhd       0.30      0.51      0.38      1619\n",
            "     anxiety       0.18      0.10      0.13       968\n",
            "     bipolar       0.06      0.01      0.01       330\n",
            "  depression       0.20      0.19      0.20      1360\n",
            "         mdd       0.00      0.00      0.00        65\n",
            "         neg       0.41      0.56      0.47      1640\n",
            "         ocd       0.00      0.00      0.00       265\n",
            "         ppd       0.00      0.00      0.00        49\n",
            "        ptsd       0.12      0.02      0.03       683\n",
            "\n",
            "    accuracy                           0.30      6979\n",
            "   macro avg       0.14      0.15      0.14      6979\n",
            "weighted avg       0.25      0.30      0.26      6979\n",
            "\n",
            "\n"
          ]
        }
      ],
      "source": [
        "for i, model in enumerate(mgrids):\n",
        "    print(\"============\", model.__class__.__name__, \"============\")\n",
        "    my_pred = model.predict(X_test)\n",
        "    report = evaluate(my_test, my_pred)\n",
        "\n",
        "    mreport.iloc[i,:] = [round(report['weighted avg']['precision'],2), round(report['weighted avg']['recall'],2), round(report['weighted avg']['f1-score'],2)]"
      ]
    },
    {
      "cell_type": "code",
      "execution_count": 66,
      "metadata": {},
      "outputs": [
        {
          "data": {
            "text/html": [
              "<div>\n",
              "<style scoped>\n",
              "    .dataframe tbody tr th:only-of-type {\n",
              "        vertical-align: middle;\n",
              "    }\n",
              "\n",
              "    .dataframe tbody tr th {\n",
              "        vertical-align: top;\n",
              "    }\n",
              "\n",
              "    .dataframe thead th {\n",
              "        text-align: right;\n",
              "    }\n",
              "</style>\n",
              "<table border=\"1\" class=\"dataframe\">\n",
              "  <thead>\n",
              "    <tr style=\"text-align: right;\">\n",
              "      <th></th>\n",
              "      <th>P</th>\n",
              "      <th>R</th>\n",
              "      <th>F1</th>\n",
              "    </tr>\n",
              "  </thead>\n",
              "  <tbody>\n",
              "    <tr>\n",
              "      <th>Logistic Regression</th>\n",
              "      <td>0.22</td>\n",
              "      <td>0.29</td>\n",
              "      <td>0.22</td>\n",
              "    </tr>\n",
              "    <tr>\n",
              "      <th>Naive Bayes</th>\n",
              "      <td>0.15</td>\n",
              "      <td>0.25</td>\n",
              "      <td>0.17</td>\n",
              "    </tr>\n",
              "    <tr>\n",
              "      <th>Support Vector Machine</th>\n",
              "      <td>0.22</td>\n",
              "      <td>0.3</td>\n",
              "      <td>0.22</td>\n",
              "    </tr>\n",
              "    <tr>\n",
              "      <th>Random Forest</th>\n",
              "      <td>0.25</td>\n",
              "      <td>0.3</td>\n",
              "      <td>0.26</td>\n",
              "    </tr>\n",
              "  </tbody>\n",
              "</table>\n",
              "</div>"
            ],
            "text/plain": [
              "                           P     R    F1\n",
              "Logistic Regression     0.22  0.29  0.22\n",
              "Naive Bayes             0.15  0.25  0.17\n",
              "Support Vector Machine  0.22   0.3  0.22\n",
              "Random Forest           0.25   0.3  0.26"
            ]
          },
          "execution_count": 66,
          "metadata": {},
          "output_type": "execute_result"
        }
      ],
      "source": [
        "mreport"
      ]
    },
    {
      "cell_type": "code",
      "execution_count": 19,
      "metadata": {
        "colab": {
          "base_uri": "https://localhost:8080/",
          "height": 586
        },
        "id": "MEa0m_QzRhit",
        "outputId": "03be4c37-32ef-4399-a234-57aa2ed3e30a"
      },
      "outputs": [
        {
          "data": {
            "text/plain": [
              "[Text(0, 0.5, 'ppd'),\n",
              " Text(0, 1.5, 'mdd'),\n",
              " Text(0, 2.5, 'ocd'),\n",
              " Text(0, 3.5, 'ptsd'),\n",
              " Text(0, 4.5, 'adhd'),\n",
              " Text(0, 5.5, 'bipolar'),\n",
              " Text(0, 6.5, 'anxiety'),\n",
              " Text(0, 7.5, 'depression'),\n",
              " Text(0, 8.5, 'neg')]"
            ]
          },
          "execution_count": 19,
          "metadata": {},
          "output_type": "execute_result"
        },
        {
          "data": {
            "image/png": "[encoded data removed]",
            "text/plain": [
              "<Figure size 640x480 with 2 Axes>"
            ]
          },
          "metadata": {},
          "output_type": "display_data"
        }
      ],
      "source": [
        "# Show confustion matrix for highest accuracy score\n",
        "classification_matrix = confusion_matrix(my_test, my_pred)\n",
        "ax = sns.heatmap(classification_matrix, annot=True, cmap='Blues', fmt='d')\n",
        "ax.set_xticklabels(LABEL)\n",
        "ax.set_yticklabels(LABEL)"
      ]
    },
    {
      "attachments": {},
      "cell_type": "markdown",
      "metadata": {},
      "source": [
        "# Multi-output Classification"
      ]
    },
    {
      "cell_type": "code",
      "execution_count": 20,
      "metadata": {},
      "outputs": [
        {
          "data": {
            "text/html": [
              "<div>\n",
              "<style scoped>\n",
              "    .dataframe tbody tr th:only-of-type {\n",
              "        vertical-align: middle;\n",
              "    }\n",
              "\n",
              "    .dataframe tbody tr th {\n",
              "        vertical-align: top;\n",
              "    }\n",
              "\n",
              "    .dataframe thead th {\n",
              "        text-align: right;\n",
              "    }\n",
              "</style>\n",
              "<table border=\"1\" class=\"dataframe\">\n",
              "  <thead>\n",
              "    <tr style=\"text-align: right;\">\n",
              "      <th></th>\n",
              "      <th>max_msd</th>\n",
              "      <th>mean_msd</th>\n",
              "      <th>positive_ratio</th>\n",
              "      <th>negative_ratio</th>\n",
              "      <th>positive_combo</th>\n",
              "      <th>negative_combo</th>\n",
              "      <th>mlabel</th>\n",
              "    </tr>\n",
              "  </thead>\n",
              "  <tbody>\n",
              "    <tr>\n",
              "      <th>0</th>\n",
              "      <td>0.000000</td>\n",
              "      <td>0.000000</td>\n",
              "      <td>0.000000</td>\n",
              "      <td>0.000000</td>\n",
              "      <td>0</td>\n",
              "      <td>0</td>\n",
              "      <td>(mdd, ocd, bipolar, anxiety, depression, depre...</td>\n",
              "    </tr>\n",
              "    <tr>\n",
              "      <th>1</th>\n",
              "      <td>0.000258</td>\n",
              "      <td>0.000004</td>\n",
              "      <td>0.000000</td>\n",
              "      <td>0.011236</td>\n",
              "      <td>0</td>\n",
              "      <td>0</td>\n",
              "      <td>(neg,)</td>\n",
              "    </tr>\n",
              "    <tr>\n",
              "      <th>2</th>\n",
              "      <td>0.000305</td>\n",
              "      <td>0.000006</td>\n",
              "      <td>0.004975</td>\n",
              "      <td>0.008706</td>\n",
              "      <td>0</td>\n",
              "      <td>0</td>\n",
              "      <td>(neg,)</td>\n",
              "    </tr>\n",
              "    <tr>\n",
              "      <th>3</th>\n",
              "      <td>0.000327</td>\n",
              "      <td>0.000024</td>\n",
              "      <td>0.000000</td>\n",
              "      <td>0.077419</td>\n",
              "      <td>0</td>\n",
              "      <td>0</td>\n",
              "      <td>(neg,)</td>\n",
              "    </tr>\n",
              "    <tr>\n",
              "      <th>4</th>\n",
              "      <td>0.000378</td>\n",
              "      <td>0.000037</td>\n",
              "      <td>0.033129</td>\n",
              "      <td>0.072393</td>\n",
              "      <td>0</td>\n",
              "      <td>0</td>\n",
              "      <td>(neg,)</td>\n",
              "    </tr>\n",
              "  </tbody>\n",
              "</table>\n",
              "</div>"
            ],
            "text/plain": [
              "    max_msd  mean_msd  positive_ratio  negative_ratio  positive_combo  \\\n",
              "0  0.000000  0.000000        0.000000        0.000000               0   \n",
              "1  0.000258  0.000004        0.000000        0.011236               0   \n",
              "2  0.000305  0.000006        0.004975        0.008706               0   \n",
              "3  0.000327  0.000024        0.000000        0.077419               0   \n",
              "4  0.000378  0.000037        0.033129        0.072393               0   \n",
              "\n",
              "   negative_combo                                             mlabel  \n",
              "0               0  (mdd, ocd, bipolar, anxiety, depression, depre...  \n",
              "1               0                                             (neg,)  \n",
              "2               0                                             (neg,)  \n",
              "3               0                                             (neg,)  \n",
              "4               0                                             (neg,)  "
            ]
          },
          "execution_count": 20,
          "metadata": {},
          "output_type": "execute_result"
        }
      ],
      "source": [
        "# Define a custom aggregation function\n",
        "def aggregate_to_tuple(series):\n",
        "    return tuple(series)\n",
        "\n",
        "# Group by 'Name' and 'Age', then aggregate 'Score' into tuples using the custom function\n",
        "new_data = data.groupby(['max_msd', 'mean_msd', 'positive_ratio', 'negative_ratio', 'positive_combo', 'negative_combo'])['mlabel'].agg(aggregate_to_tuple).reset_index()\n",
        "new_data.head()"
      ]
    },
    {
      "cell_type": "code",
      "execution_count": 21,
      "metadata": {},
      "outputs": [
        {
          "data": {
            "text/plain": [
              "mlabel\n",
              "1    33794\n",
              "2      465\n",
              "3       15\n",
              "Name: count, dtype: int64"
            ]
          },
          "execution_count": 21,
          "metadata": {},
          "output_type": "execute_result"
        }
      ],
      "source": [
        "new_data = new_data.drop([0], axis=0).reset_index(drop=True)\n",
        "new_data.mlabel.apply(lambda x: len(x)).value_counts()"
      ]
    },
    {
      "cell_type": "code",
      "execution_count": 22,
      "metadata": {},
      "outputs": [
        {
          "data": {
            "text/html": [
              "<div>\n",
              "<style scoped>\n",
              "    .dataframe tbody tr th:only-of-type {\n",
              "        vertical-align: middle;\n",
              "    }\n",
              "\n",
              "    .dataframe tbody tr th {\n",
              "        vertical-align: top;\n",
              "    }\n",
              "\n",
              "    .dataframe thead th {\n",
              "        text-align: right;\n",
              "    }\n",
              "</style>\n",
              "<table border=\"1\" class=\"dataframe\">\n",
              "  <thead>\n",
              "    <tr style=\"text-align: right;\">\n",
              "      <th></th>\n",
              "      <th>max_msd</th>\n",
              "      <th>mean_msd</th>\n",
              "      <th>positive_ratio</th>\n",
              "      <th>negative_ratio</th>\n",
              "      <th>positive_combo</th>\n",
              "      <th>negative_combo</th>\n",
              "    </tr>\n",
              "  </thead>\n",
              "  <tbody>\n",
              "    <tr>\n",
              "      <th>0</th>\n",
              "      <td>0.000258</td>\n",
              "      <td>0.000004</td>\n",
              "      <td>0.000000</td>\n",
              "      <td>0.011236</td>\n",
              "      <td>0</td>\n",
              "      <td>0</td>\n",
              "    </tr>\n",
              "    <tr>\n",
              "      <th>1</th>\n",
              "      <td>0.000305</td>\n",
              "      <td>0.000006</td>\n",
              "      <td>0.004975</td>\n",
              "      <td>0.008706</td>\n",
              "      <td>0</td>\n",
              "      <td>0</td>\n",
              "    </tr>\n",
              "    <tr>\n",
              "      <th>2</th>\n",
              "      <td>0.000327</td>\n",
              "      <td>0.000024</td>\n",
              "      <td>0.000000</td>\n",
              "      <td>0.077419</td>\n",
              "      <td>0</td>\n",
              "      <td>0</td>\n",
              "    </tr>\n",
              "    <tr>\n",
              "      <th>3</th>\n",
              "      <td>0.000378</td>\n",
              "      <td>0.000037</td>\n",
              "      <td>0.033129</td>\n",
              "      <td>0.072393</td>\n",
              "      <td>0</td>\n",
              "      <td>0</td>\n",
              "    </tr>\n",
              "    <tr>\n",
              "      <th>4</th>\n",
              "      <td>0.000437</td>\n",
              "      <td>0.000001</td>\n",
              "      <td>0.000000</td>\n",
              "      <td>0.001645</td>\n",
              "      <td>0</td>\n",
              "      <td>0</td>\n",
              "    </tr>\n",
              "  </tbody>\n",
              "</table>\n",
              "</div>"
            ],
            "text/plain": [
              "    max_msd  mean_msd  positive_ratio  negative_ratio  positive_combo  \\\n",
              "0  0.000258  0.000004        0.000000        0.011236               0   \n",
              "1  0.000305  0.000006        0.004975        0.008706               0   \n",
              "2  0.000327  0.000024        0.000000        0.077419               0   \n",
              "3  0.000378  0.000037        0.033129        0.072393               0   \n",
              "4  0.000437  0.000001        0.000000        0.001645               0   \n",
              "\n",
              "   negative_combo  \n",
              "0               0  \n",
              "1               0  \n",
              "2               0  \n",
              "3               0  \n",
              "4               0  "
            ]
          },
          "execution_count": 22,
          "metadata": {},
          "output_type": "execute_result"
        }
      ],
      "source": [
        "new_x = new_data.drop(['mlabel'], axis=1)\n",
        "new_y = new_data['mlabel']\n",
        "\n",
        "mlb = MultiLabelBinarizer()\n",
        "m_ys = mlb.fit_transform(new_y)\n",
        "\n",
        "new_x.head()"
      ]
    },
    {
      "cell_type": "code",
      "execution_count": 23,
      "metadata": {},
      "outputs": [
        {
          "name": "stdout",
          "output_type": "stream",
          "text": [
            "[0 0 0 0 0 1 0 0 0]\n",
            "[('neg',)]\n",
            "['adhd' 'anxiety' 'bipolar' 'depression' 'mdd' 'neg' 'ocd' 'ppd' 'ptsd']\n"
          ]
        }
      ],
      "source": [
        "# First Split for Train and Test\n",
        "x_train,x_test,y_train,y_test = train_test_split(new_x, m_ys, test_size=0.2, random_state=RANDOM_SEED,shuffle=True)\n",
        "\n",
        "# Getting a sense of how the tags data looks like\n",
        "print(m_ys[0])\n",
        "print(mlb.inverse_transform(m_ys[0].reshape(1,-1)))\n",
        "print(mlb.classes_)"
      ]
    },
    {
      "cell_type": "code",
      "execution_count": 24,
      "metadata": {},
      "outputs": [
        {
          "name": "stdout",
          "output_type": "stream",
          "text": [
            "Accuracy: 0.06549963530269876\n"
          ]
        }
      ],
      "source": [
        "from sklearn.metrics import accuracy_score\n",
        "\n",
        "m = MultiOutputClassifier(RandomForestClassifier(n_estimators=300))\n",
        "\n",
        "# Fit the multi-output classifier to the training data\n",
        "m.fit(x_train, y_train)\n",
        "\n",
        "# Predict multi-output labels for test data\n",
        "y_pred = m.predict(x_test)\n",
        "\n",
        "# Evaluate the performance of the multi-output classifier\n",
        "accuracy = accuracy_score(y_test, y_pred)\n",
        "print(\"Accuracy:\", accuracy)"
      ]
    },
    {
      "cell_type": "code",
      "execution_count": 25,
      "metadata": {},
      "outputs": [
        {
          "name": "stdout",
          "output_type": "stream",
          "text": [
            "              precision    recall  f1-score   support\n",
            "\n",
            "        adhd       0.00      0.00      0.00         0\n",
            "     anxiety       0.00      0.00      0.00         0\n",
            "     bipolar       0.00      0.00      0.00         0\n",
            "  depression       0.00      0.00      0.00         0\n",
            "         mdd       0.00      0.00      0.00         0\n",
            "         neg       0.00      0.00      0.00         0\n",
            "         ocd       0.00      0.00      0.00         0\n",
            "         ppd       0.00      0.00      0.00         0\n",
            "        ptsd       0.00      0.00      0.00         0\n",
            "\n",
            "   micro avg       0.00      0.00      0.00         0\n",
            "   macro avg       0.00      0.00      0.00         0\n",
            "weighted avg       0.00      0.00      0.00         0\n",
            " samples avg       0.00      0.00      0.00         0\n",
            "\n"
          ]
        }
      ],
      "source": [
        "print(classification_report(mlb.transform(y_test), mlb.transform(y_pred), target_names=mlb.classes_))"
      ]
    },
    {
      "cell_type": "markdown",
      "metadata": {},
      "source": [
        "## Random Forest Feature Importance"
      ]
    },
    {
      "cell_type": "code",
      "execution_count": null,
      "metadata": {},
      "outputs": [],
      "source": []
    },
    {
      "attachments": {},
      "cell_type": "markdown",
      "metadata": {},
      "source": [
        "# BERT"
      ]
    },
    {
      "cell_type": "code",
      "execution_count": null,
      "metadata": {},
      "outputs": [],
      "source": [
        "# Huggingface transformers\n",
        "import transformers\n",
        "from transformers import BertModel,BertTokenizer,AdamW, get_linear_schedule_with_warmup\n",
        "\n",
        "import torch\n",
        "from torch import nn ,cuda\n",
        "from torch.utils.data import DataLoader,Dataset,RandomSampler, SequentialSampler\n",
        "\n",
        "import pytorch_lightning as pl\n",
        "from pytorch_lightning.callbacks import ModelCheckpoint"
      ]
    },
    {
      "attachments": {},
      "cell_type": "markdown",
      "metadata": {},
      "source": [
        "## With features"
      ]
    },
    {
      "attachments": {},
      "cell_type": "markdown",
      "metadata": {},
      "source": [
        "### Model"
      ]
    },
    {
      "cell_type": "code",
      "execution_count": 26,
      "metadata": {},
      "outputs": [],
      "source": [
        "x_train,x_test,y_train,y_test = train_test_split(new_x, m_ys, test_size=0.1, random_state=RANDOM_SEED,shuffle=True)\n",
        "# Next split Train in to training and validation\n",
        "x_tr,x_val,y_tr,y_val = train_test_split(x_train, y_train, test_size=0.2, random_state=RANDOM_SEED,shuffle=True)"
      ]
    },
    {
      "cell_type": "code",
      "execution_count": 27,
      "metadata": {},
      "outputs": [],
      "source": [
        "class MoodDataset (Dataset):\n",
        "    def __init__(self,quest,tags, tokenizer, max_len):\n",
        "        self.tokenizer = tokenizer\n",
        "        self.text = quest\n",
        "        self.labels = tags\n",
        "        self.max_len = max_len\n",
        "\n",
        "    def __len__(self):\n",
        "        return len(self.text)\n",
        "\n",
        "    def __getitem__(self, item_idx):\n",
        "        text = self.text[item_idx]\n",
        "        inputs = self.tokenizer.encode_plus(\n",
        "            text,\n",
        "            None,\n",
        "            add_special_tokens=True,\n",
        "            max_length= self.max_len,\n",
        "            padding = 'max_length',\n",
        "            return_token_type_ids= False,\n",
        "            return_attention_mask= True,\n",
        "            truncation=True,\n",
        "            return_tensors = 'pt'\n",
        "          )\n",
        "\n",
        "        input_ids = inputs['input_ids'].flatten()\n",
        "        attn_mask = inputs['attention_mask'].flatten()\n",
        "\n",
        "        return {\n",
        "          'input_ids': input_ids ,\n",
        "          'attention_mask': attn_mask,\n",
        "          'label':torch.tensor(self.labels[item_idx],dtype= torch.float)\n",
        "        }"
      ]
    },
    {
      "cell_type": "code",
      "execution_count": 56,
      "metadata": {},
      "outputs": [],
      "source": [
        "class MoodDataModule (pl.LightningDataModule):\n",
        "    def __init__(self,x_tr,y_tr,x_val,y_val,x_test,y_test,tokenizer, batch_size=16,max_token_len=200):\n",
        "        super().__init__()\n",
        "        self.tr_text = x_tr\n",
        "        self.tr_label = y_tr\n",
        "        self.val_text = x_val\n",
        "        self.val_label = y_val\n",
        "        self.test_text = x_test\n",
        "        self.test_label = y_test\n",
        "        self.tokenizer = tokenizer\n",
        "        self.batch_size = batch_size\n",
        "        self.max_token_len = max_token_len\n",
        "\n",
        "    def setup(self, stage=None):\n",
        "        self.train_dataset = MoodDataset(quest=self.tr_text,  tags=self.tr_label,tokenizer=self.tokenizer,max_len= self.max_token_len)\n",
        "        self.val_dataset= MoodDataset(quest=self.val_text, tags=self.val_label,tokenizer=self.tokenizer,max_len = self.max_token_len)\n",
        "        self.test_dataset =MoodDataset(quest=self.test_text, tags=self.test_label,tokenizer=self.tokenizer,max_len = self.max_token_len)\n",
        "        \n",
        "    def train_dataloader(self):\n",
        "        return DataLoader(self.train_dataset,batch_size= self.batch_size, shuffle = True , num_workers=4)\n",
        "\n",
        "    def val_dataloader(self):\n",
        "        return DataLoader (self.val_dataset,batch_size= 16)\n",
        "\n",
        "    def test_dataloader(self):\n",
        "        return DataLoader (self.test_dataset,batch_size= 16)"
      ]
    },
    {
      "cell_type": "code",
      "execution_count": 57,
      "metadata": {},
      "outputs": [],
      "source": [
        "BERT_MODEL_NAME = \"bert-base-cased\" # we will use the BERT base model(the smaller one)\n",
        "Bert_tokenizer = BertTokenizer.from_pretrained(BERT_MODEL_NAME)"
      ]
    },
    {
      "cell_type": "code",
      "execution_count": 58,
      "metadata": {},
      "outputs": [],
      "source": [
        "# Initialize the parameters that will be use for training\n",
        "N_EPOCHS = 12\n",
        "BATCH_SIZE = 32\n",
        "MAX_LEN = 300\n",
        "LR = 2e-05"
      ]
    },
    {
      "cell_type": "code",
      "execution_count": 59,
      "metadata": {},
      "outputs": [],
      "source": [
        "# Instantiate and set up the data_module\n",
        "data_module = MoodDataModule(x_tr,y_tr, x_val, y_val,x_test,y_test, Bert_tokenizer,BATCH_SIZE,MAX_LEN)\n",
        "data_module.setup()"
      ]
    },
    {
      "cell_type": "code",
      "execution_count": 46,
      "metadata": {},
      "outputs": [],
      "source": [
        "# we will use the BERT base model(the smaller one)\n",
        "BERT_MODEL_NAME = \"bert-base-cased\"\n",
        "\n",
        "class MoodClassifier(pl.LightningModule):\n",
        "    # Set up the classifier\n",
        "    def __init__(self,n_classes=10,steps_per_epoch=None,n_epochs=3, lr=2e-5):\n",
        "        super().__init__()\n",
        "\n",
        "        self.bert=BertModel.from_pretrained(BERT_MODEL_NAME, return_dict=True)\n",
        "        self.classifier=nn.Linear(self.bert.config.hidden_size,\n",
        "        n_classes) \n",
        "        self.steps_per_epoch = steps_per_epoch\n",
        "        self.n_epochs = n_epochs\n",
        "        self.lr = lr\n",
        "        self.criterion = nn.BCEWithLogitsLoss()\n",
        "\n",
        "    def forward(self,input_ids, attn_mask):\n",
        "        output = self.bert(input_ids=input_ids,attention_mask=attn_mask)\n",
        "        output = self.classifier(output.pooler_output)\n",
        "            \n",
        "        return output\n",
        "\n",
        "    def training_step(self,batch,batch_idx):\n",
        "        input_ids = batch['input_ids']\n",
        "        attention_mask = batch['attention_mask']\n",
        "        labels = batch['label']\n",
        "        \n",
        "        outputs = self(input_ids,attention_mask)\n",
        "        loss = self.criterion(outputs,labels)\n",
        "        self.log('train_loss',loss , prog_bar=True,logger=True)\n",
        "        \n",
        "        return {\"loss\" :loss, \"predictions\":outputs, \"labels\": labels }\n",
        "\n",
        "\n",
        "    def validation_step(self,batch,batch_idx):\n",
        "        input_ids = batch['input_ids']\n",
        "        attention_mask = batch['attention_mask']\n",
        "        labels = batch['label']\n",
        "        \n",
        "        outputs = self(input_ids,attention_mask)\n",
        "        loss = self.criterion(outputs,labels)\n",
        "        self.log('val_loss',loss , prog_bar=True,logger=True)\n",
        "        \n",
        "        return loss\n",
        "\n",
        "    def test_step(self,batch,batch_idx):\n",
        "        input_ids = batch['input_ids']\n",
        "        attention_mask = batch['attention_mask']\n",
        "        labels = batch['label']\n",
        "        \n",
        "        outputs = self(input_ids,attention_mask)\n",
        "        loss = self.criterion(outputs,labels)\n",
        "        self.log('test_loss',loss , prog_bar=True,logger=True)\n",
        "        \n",
        "        return loss\n",
        "    \n",
        "    def configure_optimizers(self):\n",
        "        optimizer = AdamW(self.parameters() , lr=self.lr)\n",
        "        warmup_steps = self.steps_per_epoch//3\n",
        "        total_steps = self.steps_per_epoch * self.n_epochs - warmup_steps\n",
        "\n",
        "        scheduler = get_linear_schedule_with_warmup(optimizer,warmup_steps,total_steps)\n",
        "\n",
        "        return [optimizer], [scheduler]"
      ]
    },
    {
      "cell_type": "code",
      "execution_count": 52,
      "metadata": {},
      "outputs": [],
      "source": [
        "torch.manual_seed(RANDOM_SEED)\n",
        "\n",
        "device = torch.device(\"cuda:0\" if torch.cuda.is_available() else \"cpu\")"
      ]
    },
    {
      "cell_type": "code",
      "execution_count": 47,
      "metadata": {},
      "outputs": [],
      "source": [
        "checkpoint_callback = ModelCheckpoint(\n",
        "    monitor='val_loss',# monitored quantity\n",
        "    filename='QTag-{epoch:02d}-{val_loss:.2f}',\n",
        "    save_top_k=3, #  save the top 3 models\n",
        "    mode='min', # mode of the monitored quantity  for optimization\n",
        ")"
      ]
    },
    {
      "cell_type": "code",
      "execution_count": 48,
      "metadata": {},
      "outputs": [],
      "source": [
        "steps_per_epoch = len(x_tr)//BATCH_SIZE\n",
        "model = MoodClassifier(n_classes=9, steps_per_epoch=steps_per_epoch,n_epochs=N_EPOCHS,lr=LR)"
      ]
    },
    {
      "cell_type": "code",
      "execution_count": 54,
      "metadata": {},
      "outputs": [
        {
          "name": "stderr",
          "output_type": "stream",
          "text": [
            "GPU available: False, used: False\n",
            "TPU available: False, using: 0 TPU cores\n",
            "IPU available: False, using: 0 IPUs\n",
            "HPU available: False, using: 0 HPUs\n"
          ]
        }
      ],
      "source": [
        "# Instantiate the Model Trainer\n",
        "trainer = pl.Trainer(max_epochs = N_EPOCHS , callbacks=[checkpoint_callback])"
      ]
    },
    {
      "cell_type": "code",
      "execution_count": 55,
      "metadata": {},
      "outputs": [
        {
          "ename": "TypeError",
          "evalue": "setup() got an unexpected keyword argument 'stage'",
          "output_type": "error",
          "traceback": [
            "\u001b[0;31m---------------------------------------------------------------------------\u001b[0m",
            "\u001b[0;31mTypeError\u001b[0m                                 Traceback (most recent call last)",
            "Cell \u001b[0;32mIn[55], line 1\u001b[0m\n\u001b[0;32m----> 1\u001b[0m trainer\u001b[39m.\u001b[39;49mfit(model, data_module)\n",
            "File \u001b[0;32m~/Documents/College/COMP90090/venv/lib/python3.8/site-packages/pytorch_lightning/trainer/trainer.py:532\u001b[0m, in \u001b[0;36mTrainer.fit\u001b[0;34m(self, model, train_dataloaders, val_dataloaders, datamodule, ckpt_path)\u001b[0m\n\u001b[1;32m    530\u001b[0m \u001b[39mself\u001b[39m\u001b[39m.\u001b[39mstrategy\u001b[39m.\u001b[39m_lightning_module \u001b[39m=\u001b[39m model\n\u001b[1;32m    531\u001b[0m _verify_strategy_supports_compile(model, \u001b[39mself\u001b[39m\u001b[39m.\u001b[39mstrategy)\n\u001b[0;32m--> 532\u001b[0m call\u001b[39m.\u001b[39;49m_call_and_handle_interrupt(\n\u001b[1;32m    533\u001b[0m     \u001b[39mself\u001b[39;49m, \u001b[39mself\u001b[39;49m\u001b[39m.\u001b[39;49m_fit_impl, model, train_dataloaders, val_dataloaders, datamodule, ckpt_path\n\u001b[1;32m    534\u001b[0m )\n",
            "File \u001b[0;32m~/Documents/College/COMP90090/venv/lib/python3.8/site-packages/pytorch_lightning/trainer/call.py:43\u001b[0m, in \u001b[0;36m_call_and_handle_interrupt\u001b[0;34m(trainer, trainer_fn, *args, **kwargs)\u001b[0m\n\u001b[1;32m     41\u001b[0m     \u001b[39mif\u001b[39;00m trainer\u001b[39m.\u001b[39mstrategy\u001b[39m.\u001b[39mlauncher \u001b[39mis\u001b[39;00m \u001b[39mnot\u001b[39;00m \u001b[39mNone\u001b[39;00m:\n\u001b[1;32m     42\u001b[0m         \u001b[39mreturn\u001b[39;00m trainer\u001b[39m.\u001b[39mstrategy\u001b[39m.\u001b[39mlauncher\u001b[39m.\u001b[39mlaunch(trainer_fn, \u001b[39m*\u001b[39margs, trainer\u001b[39m=\u001b[39mtrainer, \u001b[39m*\u001b[39m\u001b[39m*\u001b[39mkwargs)\n\u001b[0;32m---> 43\u001b[0m     \u001b[39mreturn\u001b[39;00m trainer_fn(\u001b[39m*\u001b[39;49margs, \u001b[39m*\u001b[39;49m\u001b[39m*\u001b[39;49mkwargs)\n\u001b[1;32m     45\u001b[0m \u001b[39mexcept\u001b[39;00m _TunerExitException:\n\u001b[1;32m     46\u001b[0m     _call_teardown_hook(trainer)\n",
            "File \u001b[0;32m~/Documents/College/COMP90090/venv/lib/python3.8/site-packages/pytorch_lightning/trainer/trainer.py:571\u001b[0m, in \u001b[0;36mTrainer._fit_impl\u001b[0;34m(self, model, train_dataloaders, val_dataloaders, datamodule, ckpt_path)\u001b[0m\n\u001b[1;32m    561\u001b[0m \u001b[39mself\u001b[39m\u001b[39m.\u001b[39m_data_connector\u001b[39m.\u001b[39mattach_data(\n\u001b[1;32m    562\u001b[0m     model, train_dataloaders\u001b[39m=\u001b[39mtrain_dataloaders, val_dataloaders\u001b[39m=\u001b[39mval_dataloaders, datamodule\u001b[39m=\u001b[39mdatamodule\n\u001b[1;32m    563\u001b[0m )\n\u001b[1;32m    565\u001b[0m ckpt_path \u001b[39m=\u001b[39m \u001b[39mself\u001b[39m\u001b[39m.\u001b[39m_checkpoint_connector\u001b[39m.\u001b[39m_select_ckpt_path(\n\u001b[1;32m    566\u001b[0m     \u001b[39mself\u001b[39m\u001b[39m.\u001b[39mstate\u001b[39m.\u001b[39mfn,\n\u001b[1;32m    567\u001b[0m     ckpt_path,\n\u001b[1;32m    568\u001b[0m     model_provided\u001b[39m=\u001b[39m\u001b[39mTrue\u001b[39;00m,\n\u001b[1;32m    569\u001b[0m     model_connected\u001b[39m=\u001b[39m\u001b[39mself\u001b[39m\u001b[39m.\u001b[39mlightning_module \u001b[39mis\u001b[39;00m \u001b[39mnot\u001b[39;00m \u001b[39mNone\u001b[39;00m,\n\u001b[1;32m    570\u001b[0m )\n\u001b[0;32m--> 571\u001b[0m \u001b[39mself\u001b[39;49m\u001b[39m.\u001b[39;49m_run(model, ckpt_path\u001b[39m=\u001b[39;49mckpt_path)\n\u001b[1;32m    573\u001b[0m \u001b[39massert\u001b[39;00m \u001b[39mself\u001b[39m\u001b[39m.\u001b[39mstate\u001b[39m.\u001b[39mstopped\n\u001b[1;32m    574\u001b[0m \u001b[39mself\u001b[39m\u001b[39m.\u001b[39mtraining \u001b[39m=\u001b[39m \u001b[39mFalse\u001b[39;00m\n",
            "File \u001b[0;32m~/Documents/College/COMP90090/venv/lib/python3.8/site-packages/pytorch_lightning/trainer/trainer.py:941\u001b[0m, in \u001b[0;36mTrainer._run\u001b[0;34m(self, model, ckpt_path)\u001b[0m\n\u001b[1;32m    938\u001b[0m \u001b[39mself\u001b[39m\u001b[39m.\u001b[39mstrategy\u001b[39m.\u001b[39msetup_environment()\n\u001b[1;32m    939\u001b[0m \u001b[39mself\u001b[39m\u001b[39m.\u001b[39m__setup_profiler()\n\u001b[0;32m--> 941\u001b[0m call\u001b[39m.\u001b[39;49m_call_setup_hook(\u001b[39mself\u001b[39;49m)  \u001b[39m# allow user to setup lightning_module in accelerator environment\u001b[39;00m\n\u001b[1;32m    943\u001b[0m \u001b[39m# check if we should delay restoring checkpoint till later\u001b[39;00m\n\u001b[1;32m    944\u001b[0m \u001b[39mif\u001b[39;00m \u001b[39mnot\u001b[39;00m \u001b[39mself\u001b[39m\u001b[39m.\u001b[39mstrategy\u001b[39m.\u001b[39mrestore_checkpoint_after_setup:\n",
            "File \u001b[0;32m~/Documents/College/COMP90090/venv/lib/python3.8/site-packages/pytorch_lightning/trainer/call.py:85\u001b[0m, in \u001b[0;36m_call_setup_hook\u001b[0;34m(trainer)\u001b[0m\n\u001b[1;32m     82\u001b[0m trainer\u001b[39m.\u001b[39mstrategy\u001b[39m.\u001b[39mbarrier(\u001b[39m\"\u001b[39m\u001b[39mpre_setup\u001b[39m\u001b[39m\"\u001b[39m)\n\u001b[1;32m     84\u001b[0m \u001b[39mif\u001b[39;00m trainer\u001b[39m.\u001b[39mdatamodule \u001b[39mis\u001b[39;00m \u001b[39mnot\u001b[39;00m \u001b[39mNone\u001b[39;00m:\n\u001b[0;32m---> 85\u001b[0m     _call_lightning_datamodule_hook(trainer, \u001b[39m\"\u001b[39;49m\u001b[39msetup\u001b[39;49m\u001b[39m\"\u001b[39;49m, stage\u001b[39m=\u001b[39;49mfn)\n\u001b[1;32m     86\u001b[0m _call_callback_hooks(trainer, \u001b[39m\"\u001b[39m\u001b[39msetup\u001b[39m\u001b[39m\"\u001b[39m, stage\u001b[39m=\u001b[39mfn)\n\u001b[1;32m     87\u001b[0m _call_lightning_module_hook(trainer, \u001b[39m\"\u001b[39m\u001b[39msetup\u001b[39m\u001b[39m\"\u001b[39m, stage\u001b[39m=\u001b[39mfn)\n",
            "File \u001b[0;32m~/Documents/College/COMP90090/venv/lib/python3.8/site-packages/pytorch_lightning/trainer/call.py:166\u001b[0m, in \u001b[0;36m_call_lightning_datamodule_hook\u001b[0;34m(trainer, hook_name, *args, **kwargs)\u001b[0m\n\u001b[1;32m    164\u001b[0m \u001b[39mif\u001b[39;00m \u001b[39mcallable\u001b[39m(fn):\n\u001b[1;32m    165\u001b[0m     \u001b[39mwith\u001b[39;00m trainer\u001b[39m.\u001b[39mprofiler\u001b[39m.\u001b[39mprofile(\u001b[39mf\u001b[39m\u001b[39m\"\u001b[39m\u001b[39m[LightningDataModule]\u001b[39m\u001b[39m{\u001b[39;00mtrainer\u001b[39m.\u001b[39mdatamodule\u001b[39m.\u001b[39m\u001b[39m__class__\u001b[39m\u001b[39m.\u001b[39m\u001b[39m__name__\u001b[39m\u001b[39m}\u001b[39;00m\u001b[39m.\u001b[39m\u001b[39m{\u001b[39;00mhook_name\u001b[39m}\u001b[39;00m\u001b[39m\"\u001b[39m):\n\u001b[0;32m--> 166\u001b[0m         \u001b[39mreturn\u001b[39;00m fn(\u001b[39m*\u001b[39;49margs, \u001b[39m*\u001b[39;49m\u001b[39m*\u001b[39;49mkwargs)\n\u001b[1;32m    167\u001b[0m \u001b[39mreturn\u001b[39;00m \u001b[39mNone\u001b[39;00m\n",
            "\u001b[0;31mTypeError\u001b[0m: setup() got an unexpected keyword argument 'stage'"
          ]
        }
      ],
      "source": [
        "trainer.fit(model, data_module)"
      ]
    },
    {
      "attachments": {},
      "cell_type": "markdown",
      "metadata": {},
      "source": [
        "### Pre-process"
      ]
    },
    {
      "cell_type": "code",
      "execution_count": null,
      "metadata": {
        "id": "KV4JRB0TpIju"
      },
      "outputs": [],
      "source": []
    },
    {
      "attachments": {},
      "cell_type": "markdown",
      "metadata": {},
      "source": [
        "## Raw Text"
      ]
    },
    {
      "attachments": {},
      "cell_type": "markdown",
      "metadata": {},
      "source": []
    }
  ],
  "metadata": {
    "colab": {
      "provenance": []
    },
    "kernelspec": {
      "display_name": "Python 3",
      "name": "python3"
    },
    "language_info": {
      "codemirror_mode": {
        "name": "ipython",
        "version": 3
      },
      "file_extension": ".py",
      "mimetype": "text/x-python",
      "name": "python",
      "nbconvert_exporter": "python",
      "pygments_lexer": "ipython3",
      "version": "3.11.5"
    }
  },
  "nbformat": 4,
  "nbformat_minor": 0
}
